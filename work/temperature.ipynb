{
 "cells": [
  {
   "cell_type": "code",
   "execution_count": 1,
   "id": "58799fc8-9db4-416b-af77-b57ad9f50039",
   "metadata": {},
   "outputs": [],
   "source": [
    "import numpy as np"
   ]
  },
  {
   "cell_type": "code",
   "execution_count": 3,
   "id": "948f601c-e058-4521-927d-6914ed1c83cf",
   "metadata": {},
   "outputs": [],
   "source": [
    "january = np.array([-2,  5, -5,  6, -2,  0,  6,  2,  8,  0,  6, -1,  3,  3,  7,  0, -5,\n",
    "        7,  4,  7,  8, -1,  5, -2,  3, -3, -2,  7,  8,  4,  2], dtype='float64')\n"
   ]
  },
  {
   "cell_type": "code",
   "execution_count": 5,
   "id": "ce4f6323-b889-4b9c-be1d-5bf9f1ee9d93",
   "metadata": {},
   "outputs": [
    {
     "name": "stdout",
     "output_type": "stream",
     "text": [
      "[5. 6. 6. 2. 8. 6. 3. 3. 7. 7. 4. 7. 8. 5. 3. 7. 8. 4. 2.]\n"
     ]
    }
   ],
   "source": [
    "# 1. Donnez toutes les températures qui sont supérieures à 0.\n",
    "\n",
    "print( january[january > 0] )"
   ]
  },
  {
   "cell_type": "code",
   "execution_count": 7,
   "id": "7b293e20-1866-4238-bab6-63976ee48d32",
   "metadata": {},
   "outputs": [
    {
     "name": "stdout",
     "output_type": "stream",
     "text": [
      "True\n"
     ]
    }
   ],
   "source": [
    "# 2. Comparez les températures supérieures et inférieures à 0.\n",
    "\n",
    "print( ( january > 0 ).sum() > ( january <= 0 ).sum()  )"
   ]
  },
  {
   "cell_type": "code",
   "execution_count": 11,
   "id": "a1c7f0eb-b372-41d7-b633-2da7a9d8cf9a",
   "metadata": {},
   "outputs": [
    {
     "name": "stdout",
     "output_type": "stream",
     "text": [
      "61.0\n"
     ]
    }
   ],
   "source": [
    "# 3. Donnez le pourcentage des températures positives sur le mois.\n",
    "\n",
    "print( np.round( (january > 0 ).sum() / january.size, 2 ) * 100 )"
   ]
  },
  {
   "cell_type": "code",
   "execution_count": 14,
   "id": "feb63483-5b05-4e6e-815e-4eee80855506",
   "metadata": {},
   "outputs": [
    {
     "name": "stdout",
     "output_type": "stream",
     "text": [
      "[ 1  2  3  4  5  6  7  8  9 10 11 12 13 14 15 16 17 18 19 20 21 22 23 24\n",
      " 25 26 27 28 29 30 31]\n",
      "[ 2  4  7  8  9 11 13 14 15 18 19 20 21 23 25 28 29 30 31]\n"
     ]
    }
   ],
   "source": [
    "# 4. Créez un tableau days pour les jours du mois et \n",
    "# donnez les jours pour lesquels la température était supérieure à 0.\n",
    "\n",
    "days = np.arange( 1, january.size + 1 )\n",
    "\n",
    "# print( days )\n",
    "\n",
    "daysSupZero = days[ january > 0 ]\n",
    "print(daysSupZero)"
   ]
  },
  {
   "cell_type": "code",
   "execution_count": 17,
   "id": "9c8f428c-91e8-4957-96b5-bbaa9502d1d8",
   "metadata": {},
   "outputs": [
    {
     "data": {
      "text/plain": [
       "array([6., 3., 3., 7., 7., 4., 7., 8., 5., 3., 7., 8., 4., 2.])"
      ]
     },
     "execution_count": 17,
     "metadata": {},
     "output_type": "execute_result"
    }
   ],
   "source": [
    "\"\"\"\n",
    "\n",
    "5. Donnez toutes les températures supérieures à 0 \n",
    "à partir du dixième jour du mois.\n",
    "\n",
    "\"\"\"\n",
    "\n",
    "print( january[ (days >= 10)  & ( january > 0 ) ] )"
   ]
  },
  {
   "cell_type": "code",
   "execution_count": 20,
   "id": "99004cf7-3f01-409b-bedd-14ddff23313f",
   "metadata": {},
   "outputs": [
    {
     "name": "stdout",
     "output_type": "stream",
     "text": [
      "[3. 5. 3. 6. 3. 0. 6. 2. 8. 0. 6. 3. 3. 3. 7. 0. 3. 7. 4. 7. 8. 3. 5. 3.\n",
      " 3. 3. 3. 7. 8. 4. 2.]\n"
     ]
    }
   ],
   "source": [
    "\"\"\"\n",
    "\n",
    "6. Remplacez maintenant les températures négatives par \n",
    "la moyenne des températures positives.\n",
    "\n",
    "\"\"\"\n",
    "\n",
    "# 1 médiane\n",
    "\n",
    "median = np.median( january )\n",
    "january[ january < 0 ] = median\n",
    "\n",
    "print(january )"
   ]
  },
  {
   "cell_type": "code",
   "execution_count": null,
   "id": "ae5b6f04-07ac-44b3-b026-9318e6771250",
   "metadata": {},
   "outputs": [],
   "source": []
  },
  {
   "cell_type": "code",
   "execution_count": null,
   "id": "e9bdb39b-afc7-46b9-ae17-dae2f3bf7af2",
   "metadata": {},
   "outputs": [],
   "source": []
  }
 ],
 "metadata": {
  "kernelspec": {
   "display_name": "Python 3 (ipykernel)",
   "language": "python",
   "name": "python3"
  },
  "language_info": {
   "codemirror_mode": {
    "name": "ipython",
    "version": 3
   },
   "file_extension": ".py",
   "mimetype": "text/x-python",
   "name": "python",
   "nbconvert_exporter": "python",
   "pygments_lexer": "ipython3",
   "version": "3.11.9"
  }
 },
 "nbformat": 4,
 "nbformat_minor": 5
}
