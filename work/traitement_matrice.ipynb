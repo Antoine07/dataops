{
 "cells": [
  {
   "cell_type": "code",
   "execution_count": 21,
   "id": "6cac0ee4-5eb5-46da-85cd-6c97d588123e",
   "metadata": {},
   "outputs": [],
   "source": [
    "import numpy as np\n",
    "import re"
   ]
  },
  {
   "cell_type": "code",
   "execution_count": 2,
   "id": "6e09248f-7f11-4b1d-a084-a93b6b2cb451",
   "metadata": {},
   "outputs": [],
   "source": [
    "\n",
    "A = np.array([\n",
    "    [13, 22, 28, 66, 40],\n",
    "    [16, 59, 37, 33, 28],\n",
    "    [34, 98, 54, 48, 96],\n",
    "    [13, 84, 93, 79, 76],\n",
    "    [63, 50, 10, 69, 12]\n",
    "])"
   ]
  },
  {
   "cell_type": "code",
   "execution_count": 9,
   "id": "dfa2f818-8384-46e0-9f96-339f66c35aa8",
   "metadata": {},
   "outputs": [
    {
     "data": {
      "text/plain": [
       "[(0, 13), (0, 16), (0, 34), (0, 13), (2, 10)]"
      ]
     },
     "execution_count": 9,
     "metadata": {},
     "output_type": "execute_result"
    }
   ],
   "source": [
    "# ?np.min # documentation\n",
    "\n",
    "# on utilise zip pour créer nos tuples et list pour créer liste \n",
    "# list peut prendre de la place mémoire utiliser une boucle pour afficher les résultats\n",
    "list( zip( np.argmin(A, 1), np.min(A, 1) ) )"
   ]
  },
  {
   "cell_type": "code",
   "execution_count": 10,
   "id": "7cd24aa4-a204-40a7-80fd-2924a7e083e3",
   "metadata": {},
   "outputs": [],
   "source": [
    "a = np.array([\n",
    "    [\"aaabbfffhjik\", \"hhhkkkiooo\", \"hhjuuk\"],\n",
    "    [\"rrrtttyyuuii\", \"rroooiiiuuu\", \"jjjhhhaa\"],\n",
    "    [\"aaabbgghhh\", \"iiikkkooomml\", \"hhhiijjjuu\"],\n",
    "    [\"hhhyyytttuu\", \"xxxnnnooii\", \"kkkjjjuuppp\"],\n",
    "    [\"qqqfffgghhh\", \"qqqkkklll\", \"ooohhhjjj\"],\n",
    "])"
   ]
  },
  {
   "cell_type": "code",
   "execution_count": 18,
   "id": "b6442ade-2fc7-454d-b83c-45138149a5e8",
   "metadata": {},
   "outputs": [],
   "source": [
    "sanitize = np.vectorize( lambda v : \"\".join( set(v) ) )"
   ]
  },
  {
   "cell_type": "code",
   "execution_count": 19,
   "id": "50b1af46-c6fc-40b9-a084-72229565c7bc",
   "metadata": {},
   "outputs": [
    {
     "data": {
      "text/plain": [
       "array([['kfbjaih', 'khio', 'ukhj'],\n",
       "       ['urtiy', 'uoir', 'ahj'],\n",
       "       ['bahg', 'kolmi', 'uihj'],\n",
       "       ['thuy', 'oxin', 'ukjp'],\n",
       "       ['ghfq', 'lkq', 'ohj']], dtype='<U7')"
      ]
     },
     "execution_count": 19,
     "metadata": {},
     "output_type": "execute_result"
    }
   ],
   "source": [
    "sanitize(a)"
   ]
  },
  {
   "cell_type": "code",
   "execution_count": 65,
   "id": "37b50c41-50c7-4d8f-9fa1-cdd6aa20dacd",
   "metadata": {},
   "outputs": [],
   "source": [
    "students = np.array([\n",
    "    ['Name: Luce du Coulon', 'phone: 201-20-30', '140Euro'],\n",
    "    ['Name: Auguste Dupont', 'phone: 201-22-30', '10Euro'],\n",
    "    ['Name: Roger Le Voisi', 'phone: 201-27-30', '123Euro'],\n",
    "    ['Name: Alexandre Lacri', 'phone: 201-10-30', '124Euro'],\n",
    "    ['Name: Jacques Humber', 'phone: 201-20-35', '127Euro'],\n",
    "    ['Name: Thérèse Guille', 'phone: 201-20-38', '132Euro'],\n",
    "    ['Name: Gilles Gros-Bodin', 'phone: 201-20-39', '105Euro'],\n",
    "    ['Name: Amélie Pires', 'phone: 201-25-39', '27Euro'],\n",
    "    ['Name: Marcel Laporte', 'phone: 201-20-39', '17Euro'],\n",
    "    ['Name: Geneviève Marchal', 'phone: 301-20-39', '16Euro']\n",
    "])"
   ]
  },
  {
   "cell_type": "code",
   "execution_count": 96,
   "id": "c283bf6b-881e-454c-a98f-3435739c77b9",
   "metadata": {},
   "outputs": [],
   "source": [
    "s = lambda v : v.replace('Name: ', '').replace('phone: ', '')\n",
    "sanitize = np.empty(students.shape, dtype='<U23')\n",
    "\n",
    "for i, line in enumerate(students):\n",
    "    for j, v in enumerate(line):\n",
    "         \n",
    "         if 'Euro' in v:\n",
    "             res = re.search(r'\\d+', v)\n",
    "             if res and res.group().isdigit():\n",
    "                  sanitize[i,j] =res.group()\n",
    "         else:\n",
    "             sanitize[i,j] = s( students[i,j] )"
   ]
  },
  {
   "cell_type": "code",
   "execution_count": 95,
   "id": "053cfbb0-a6da-42c9-a6b2-009bd55c18bf",
   "metadata": {},
   "outputs": [
    {
     "data": {
      "text/plain": [
       "array([['Luce du Coulon', '201-20-30', '140'],\n",
       "       ['Auguste Dupont', '201-22-30', '10'],\n",
       "       ['Roger Le Voisi', '201-27-30', '123'],\n",
       "       ['Alexandre Lacri', '201-10-30', '124'],\n",
       "       ['Jacques Humber', '201-20-35', '127'],\n",
       "       ['Thérèse Guille', '201-20-38', '132'],\n",
       "       ['Gilles Gros-Bodin', '201-20-39', '105'],\n",
       "       ['Amélie Pires', '201-25-39', '27'],\n",
       "       ['Marcel Laporte', '201-20-39', '17'],\n",
       "       ['Geneviève Marchal', '301-20-39', '16']], dtype='<U23')"
      ]
     },
     "execution_count": 95,
     "metadata": {},
     "output_type": "execute_result"
    }
   ],
   "source": [
    "sanitize"
   ]
  },
  {
   "cell_type": "code",
   "execution_count": 73,
   "id": "bffdd5b1-37c4-436f-a69a-d01ec7820eb6",
   "metadata": {},
   "outputs": [
    {
     "data": {
      "text/plain": [
       "False"
      ]
     },
     "execution_count": 73,
     "metadata": {},
     "output_type": "execute_result"
    }
   ],
   "source": [
    "'Bonjour'.isdigit()"
   ]
  },
  {
   "cell_type": "code",
   "execution_count": 76,
   "id": "7d749882-4438-410e-9812-0c02157c4a20",
   "metadata": {},
   "outputs": [],
   "source": [
    "res = re.search(r'\\d+', \"Euro143\")"
   ]
  },
  {
   "cell_type": "code",
   "execution_count": 79,
   "id": "c151a409-5fef-459e-ab46-2592665f358e",
   "metadata": {},
   "outputs": [
    {
     "data": {
      "text/plain": [
       "143.0"
      ]
     },
     "execution_count": 79,
     "metadata": {},
     "output_type": "execute_result"
    }
   ],
   "source": [
    "float( res.group() )"
   ]
  },
  {
   "cell_type": "code",
   "execution_count": 78,
   "id": "1905179b-8ee8-4c05-bc0a-1ebdf24a21db",
   "metadata": {},
   "outputs": [
    {
     "data": {
      "text/plain": [
       "True"
      ]
     },
     "execution_count": 78,
     "metadata": {},
     "output_type": "execute_result"
    }
   ],
   "source": [
    "res.group().isdigit()"
   ]
  },
  {
   "cell_type": "code",
   "execution_count": 81,
   "id": "eb3c7530-e2f2-476e-b8ff-4d65fb0d768d",
   "metadata": {},
   "outputs": [
    {
     "data": {
      "text/plain": [
       "'Jacques Humber'"
      ]
     },
     "execution_count": 81,
     "metadata": {},
     "output_type": "execute_result"
    }
   ],
   "source": [
    "'Name: Jacques Humber'.split(':')[1].strip()"
   ]
  },
  {
   "cell_type": "code",
   "execution_count": 90,
   "id": "7d864f54-a996-46fc-aed2-ee7a9e3b9608",
   "metadata": {},
   "outputs": [
    {
     "data": {
      "text/plain": [
       "False"
      ]
     },
     "execution_count": 90,
     "metadata": {},
     "output_type": "execute_result"
    }
   ],
   "source": [
    "'bonjour' in '132Euro'"
   ]
  },
  {
   "cell_type": "code",
   "execution_count": null,
   "id": "620a2dad-8de2-46a1-888f-5c5fb601779d",
   "metadata": {},
   "outputs": [],
   "source": []
  }
 ],
 "metadata": {
  "kernelspec": {
   "display_name": "Python 3 (ipykernel)",
   "language": "python",
   "name": "python3"
  },
  "language_info": {
   "codemirror_mode": {
    "name": "ipython",
    "version": 3
   },
   "file_extension": ".py",
   "mimetype": "text/x-python",
   "name": "python",
   "nbconvert_exporter": "python",
   "pygments_lexer": "ipython3",
   "version": "3.11.9"
  }
 },
 "nbformat": 4,
 "nbformat_minor": 5
}
