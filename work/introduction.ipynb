{
 "cells": [
  {
   "cell_type": "code",
   "execution_count": 1,
   "id": "9d15344c-9b8b-4ada-ab07-c22082f795a6",
   "metadata": {},
   "outputs": [],
   "source": [
    "def priceTTC(priceHT, tva = 0.2 ):\n",
    "\n",
    "    return priceHT * ( 1 + tva )"
   ]
  },
  {
   "cell_type": "code",
   "execution_count": 2,
   "id": "df481ed4-1b5c-4e87-a194-3726259269fe",
   "metadata": {},
   "outputs": [
    {
     "data": {
      "text/plain": [
       "120.0"
      ]
     },
     "execution_count": 2,
     "metadata": {},
     "output_type": "execute_result"
    }
   ],
   "source": [
    "priceTTC(100)"
   ]
  },
  {
   "cell_type": "code",
   "execution_count": 3,
   "id": "440dd233-ced5-4f3e-827c-54ef35406de5",
   "metadata": {},
   "outputs": [
    {
     "data": {
      "text/plain": [
       "150.0"
      ]
     },
     "execution_count": 3,
     "metadata": {},
     "output_type": "execute_result"
    }
   ],
   "source": [
    "priceTTC(100, 0.5)"
   ]
  },
  {
   "cell_type": "code",
   "execution_count": 4,
   "id": "819cfcd0-02e9-49a4-aace-9798d06d845f",
   "metadata": {},
   "outputs": [],
   "source": [
    "prices = [89, 10, 78, 189]"
   ]
  },
  {
   "cell_type": "code",
   "execution_count": 5,
   "id": "c72e3020-8d4e-44ff-bb26-a080e0230df3",
   "metadata": {},
   "outputs": [
    {
     "name": "stdout",
     "output_type": "stream",
     "text": [
      "89\n",
      "10\n",
      "78\n",
      "189\n"
     ]
    }
   ],
   "source": [
    "# pour parcourir une liste\n",
    "for num in prices:\n",
    "    print(num)"
   ]
  },
  {
   "cell_type": "code",
   "execution_count": 6,
   "id": "26dfe09a-b12b-408e-a69c-186d4128325b",
   "metadata": {},
   "outputs": [],
   "source": [
    "prices.append(56)"
   ]
  },
  {
   "cell_type": "code",
   "execution_count": 7,
   "id": "415b8915-0704-4fda-9b5c-a8f42bf12946",
   "metadata": {},
   "outputs": [
    {
     "data": {
      "text/plain": [
       "[89, 10, 78, 189, 56]"
      ]
     },
     "execution_count": 7,
     "metadata": {},
     "output_type": "execute_result"
    }
   ],
   "source": [
    "prices"
   ]
  },
  {
   "cell_type": "code",
   "execution_count": 8,
   "id": "4706e5b7-6348-497f-900d-2652be45f1b7",
   "metadata": {},
   "outputs": [
    {
     "name": "stdout",
     "output_type": "stream",
     "text": [
      "0 89\n",
      "1 10\n",
      "2 78\n",
      "3 189\n",
      "4 56\n"
     ]
    }
   ],
   "source": [
    "# changer la liste en mettant dans cette liste les prix TTC\n",
    "\n",
    "for i, num in enumerate(prices):\n",
    "    print(i, num)"
   ]
  },
  {
   "cell_type": "code",
   "execution_count": 9,
   "id": "575516fc-71af-4088-9f5a-8daabbe9e21a",
   "metadata": {},
   "outputs": [],
   "source": [
    "prices = [89, 10, 78, 189]\n",
    "prices.append(56)\n",
    "\n",
    "for i, price in enumerate(prices):\n",
    "    prices[i] = round( priceTTC(price), 2 )"
   ]
  },
  {
   "cell_type": "code",
   "execution_count": 10,
   "id": "b5b9e688-8420-4f05-b152-1675ac3f49e4",
   "metadata": {},
   "outputs": [
    {
     "data": {
      "text/plain": [
       "[106.8, 12.0, 93.6, 226.8, 67.2]"
      ]
     },
     "execution_count": 10,
     "metadata": {},
     "output_type": "execute_result"
    }
   ],
   "source": [
    "prices"
   ]
  },
  {
   "cell_type": "code",
   "execution_count": 11,
   "id": "81a64922-74c1-4fce-a443-1feefd99792f",
   "metadata": {},
   "outputs": [],
   "source": [
    "# compréhension de liste syntaxe propre à Python\n",
    "prices = [89, 10, 78, 189]\n",
    "prices.append(56)\n",
    "prices = [ round( priceTTC(price), 2 ) for price in prices ]"
   ]
  },
  {
   "cell_type": "code",
   "execution_count": 12,
   "id": "56a59314-e7fc-40af-8620-437a3161d655",
   "metadata": {},
   "outputs": [
    {
     "name": "stdout",
     "output_type": "stream",
     "text": [
      "The Zen of Python, by Tim Peters\n",
      "\n",
      "Beautiful is better than ugly.\n",
      "Explicit is better than implicit.\n",
      "Simple is better than complex.\n",
      "Complex is better than complicated.\n",
      "Flat is better than nested.\n",
      "Sparse is better than dense.\n",
      "Readability counts.\n",
      "Special cases aren't special enough to break the rules.\n",
      "Although practicality beats purity.\n",
      "Errors should never pass silently.\n",
      "Unless explicitly silenced.\n",
      "In the face of ambiguity, refuse the temptation to guess.\n",
      "There should be one-- and preferably only one --obvious way to do it.\n",
      "Although that way may not be obvious at first unless you're Dutch.\n",
      "Now is better than never.\n",
      "Although never is often better than *right* now.\n",
      "If the implementation is hard to explain, it's a bad idea.\n",
      "If the implementation is easy to explain, it may be a good idea.\n",
      "Namespaces are one honking great idea -- let's do more of those!\n"
     ]
    }
   ],
   "source": [
    "import this"
   ]
  },
  {
   "cell_type": "code",
   "execution_count": 13,
   "id": "0faaaf8d-d223-4a3c-8854-c02463bb2ba8",
   "metadata": {},
   "outputs": [
    {
     "data": {
      "text/plain": [
       "\u001b[0;31mSignature:\u001b[0m   \u001b[0mhelp\u001b[0m\u001b[0;34m(\u001b[0m\u001b[0;34m*\u001b[0m\u001b[0margs\u001b[0m\u001b[0;34m,\u001b[0m \u001b[0;34m**\u001b[0m\u001b[0mkwds\u001b[0m\u001b[0;34m)\u001b[0m\u001b[0;34m\u001b[0m\u001b[0;34m\u001b[0m\u001b[0m\n",
       "\u001b[0;31mType:\u001b[0m        _Helper\n",
       "\u001b[0;31mString form:\u001b[0m Type help() for interactive help, or help(object) for help about object.\n",
       "\u001b[0;31mNamespace:\u001b[0m   Python builtin\n",
       "\u001b[0;31mFile:\u001b[0m        /opt/conda/lib/python3.11/_sitebuiltins.py\n",
       "\u001b[0;31mDocstring:\u001b[0m  \n",
       "Define the builtin 'help'.\n",
       "\n",
       "This is a wrapper around pydoc.help that provides a helpful message\n",
       "when 'help' is typed at the Python interactive prompt.\n",
       "\n",
       "Calling help() at the Python prompt starts an interactive help session.\n",
       "Calling help(thing) prints help for the python object 'thing'."
      ]
     },
     "metadata": {},
     "output_type": "display_data"
    }
   ],
   "source": [
    "?help"
   ]
  },
  {
   "cell_type": "code",
   "execution_count": 14,
   "id": "d514342e-13d0-4cf4-a23e-c4f438d02b93",
   "metadata": {},
   "outputs": [],
   "source": [
    "import helpers "
   ]
  },
  {
   "cell_type": "code",
   "execution_count": 15,
   "id": "d78a8e05-251a-4796-b24b-ac6517a25790",
   "metadata": {},
   "outputs": [
    {
     "data": {
      "text/plain": [
       "\u001b[0;31mType:\u001b[0m        module\n",
       "\u001b[0;31mString form:\u001b[0m <module 'helpers' from '/home/jovyan/work/helpers.py'>\n",
       "\u001b[0;31mFile:\u001b[0m        ~/work/helpers.py\n",
       "\u001b[0;31mDocstring:\u001b[0m   <no docstring>"
      ]
     },
     "metadata": {},
     "output_type": "display_data"
    }
   ],
   "source": [
    "?helpers"
   ]
  },
  {
   "cell_type": "code",
   "execution_count": 17,
   "id": "05581689-57fc-42b4-b6c6-13cef7177bd3",
   "metadata": {},
   "outputs": [
    {
     "data": {
      "text/plain": [
       "<function print(*args, sep=' ', end='\\n', file=None, flush=False)>"
      ]
     },
     "execution_count": 17,
     "metadata": {},
     "output_type": "execute_result"
    }
   ],
   "source": [
    "print"
   ]
  },
  {
   "cell_type": "code",
   "execution_count": 18,
   "id": "e6962a83-44fa-4927-b38d-86a113c7d3e6",
   "metadata": {},
   "outputs": [
    {
     "data": {
      "text/plain": [
       "5"
      ]
     },
     "execution_count": 18,
     "metadata": {},
     "output_type": "execute_result"
    }
   ],
   "source": [
    "l = [1,2,3,4,5]\n",
    "l[0] # 1\n",
    "l[-1] # 5"
   ]
  },
  {
   "cell_type": "code",
   "execution_count": 19,
   "id": "c0a7f59e-2655-49c2-9148-0d23f9869da3",
   "metadata": {},
   "outputs": [],
   "source": [
    "l = [1,2,3,4,5, 6, 7, 8]"
   ]
  },
  {
   "cell_type": "code",
   "execution_count": 20,
   "id": "8251fb00-a3b8-4307-af2b-d1f2f60fe186",
   "metadata": {},
   "outputs": [
    {
     "data": {
      "text/plain": [
       "[2, 3, 4, 5, 6, 7, 8]"
      ]
     },
     "execution_count": 20,
     "metadata": {},
     "output_type": "execute_result"
    }
   ],
   "source": [
    "l[1:]"
   ]
  },
  {
   "cell_type": "code",
   "execution_count": 25,
   "id": "72653d88-e428-4937-9d52-7182a1224376",
   "metadata": {},
   "outputs": [
    {
     "data": {
      "text/plain": [
       "[1, 3, 5, 7]"
      ]
     },
     "execution_count": 25,
     "metadata": {},
     "output_type": "execute_result"
    }
   ],
   "source": [
    "l[0::2]"
   ]
  },
  {
   "cell_type": "code",
   "execution_count": 26,
   "id": "88aa642f-1970-4772-82d6-1c41f8c3074a",
   "metadata": {},
   "outputs": [
    {
     "data": {
      "text/plain": [
       "[8, 7, 6, 5, 4, 3, 2, 1]"
      ]
     },
     "execution_count": 26,
     "metadata": {},
     "output_type": "execute_result"
    }
   ],
   "source": [
    "l[::-1]"
   ]
  },
  {
   "cell_type": "code",
   "execution_count": 27,
   "id": "bbc7c050-daf5-4a78-89f9-df95bdaf9efc",
   "metadata": {},
   "outputs": [
    {
     "data": {
      "text/plain": [
       "[8, 6, 4, 2]"
      ]
     },
     "execution_count": 27,
     "metadata": {},
     "output_type": "execute_result"
    }
   ],
   "source": [
    "l[::-2]"
   ]
  },
  {
   "cell_type": "code",
   "execution_count": 31,
   "id": "2ddbaeee-d18b-4e7d-874a-ec4df2f81c79",
   "metadata": {},
   "outputs": [
    {
     "data": {
      "text/plain": [
       "[8, 6, 4]"
      ]
     },
     "execution_count": 31,
     "metadata": {},
     "output_type": "execute_result"
    }
   ],
   "source": [
    "l[:2:-2]"
   ]
  },
  {
   "cell_type": "code",
   "execution_count": 38,
   "id": "64ad0191-daa5-47a5-a061-757e68f31480",
   "metadata": {},
   "outputs": [],
   "source": [
    "def division(a,b):\n",
    "    assert b != 0 \n",
    "    \n",
    "    return a/b\n",
    "\n"
   ]
  },
  {
   "cell_type": "code",
   "execution_count": 40,
   "id": "f601bb79-115c-4d2a-b195-17e3a34eac1e",
   "metadata": {},
   "outputs": [
    {
     "name": "stdout",
     "output_type": "stream",
     "text": [
      "error\n"
     ]
    }
   ],
   "source": [
    "try:\n",
    "    division(1,0)\n",
    "except:\n",
    "    print('error')"
   ]
  },
  {
   "cell_type": "code",
   "execution_count": 41,
   "id": "1b3a3116-2817-4613-b839-c2d2a089b37a",
   "metadata": {},
   "outputs": [],
   "source": [
    "def testUpper(l):\n",
    "    pass\n",
    "\n",
    "testUpper(['A', 'B', 'C' , 'D', 'e']) #  False\n",
    "\n",
    "testUpper(['A', 'B', 'C' , 'D']) #  True\n"
   ]
  },
  {
   "cell_type": "code",
   "execution_count": 42,
   "id": "06ab2111-41c3-439a-b15c-eeed7c338358",
   "metadata": {},
   "outputs": [
    {
     "data": {
      "text/plain": [
       "\u001b[0;31mSignature:\u001b[0m \u001b[0mall\u001b[0m\u001b[0;34m(\u001b[0m\u001b[0miterable\u001b[0m\u001b[0;34m,\u001b[0m \u001b[0;34m/\u001b[0m\u001b[0;34m)\u001b[0m\u001b[0;34m\u001b[0m\u001b[0;34m\u001b[0m\u001b[0m\n",
       "\u001b[0;31mDocstring:\u001b[0m\n",
       "Return True if bool(x) is True for all values x in the iterable.\n",
       "\n",
       "If the iterable is empty, return True.\n",
       "\u001b[0;31mType:\u001b[0m      builtin_function_or_method"
      ]
     },
     "metadata": {},
     "output_type": "display_data"
    }
   ],
   "source": [
    "?all"
   ]
  },
  {
   "cell_type": "code",
   "execution_count": 43,
   "id": "88a14238-9351-4572-a1f6-8792e83de432",
   "metadata": {},
   "outputs": [
    {
     "data": {
      "text/plain": [
       "True"
      ]
     },
     "execution_count": 43,
     "metadata": {},
     "output_type": "execute_result"
    }
   ],
   "source": [
    "all( [True, True])"
   ]
  },
  {
   "cell_type": "code",
   "execution_count": 44,
   "id": "e3939993-0c45-4e7d-a7ab-b5ade2564497",
   "metadata": {},
   "outputs": [
    {
     "data": {
      "text/plain": [
       "False"
      ]
     },
     "execution_count": 44,
     "metadata": {},
     "output_type": "execute_result"
    }
   ],
   "source": [
    "all( [True, True, False, True])"
   ]
  },
  {
   "cell_type": "code",
   "execution_count": 49,
   "id": "427ca095-a25b-47ff-a2b8-b64775ab6a99",
   "metadata": {},
   "outputs": [
    {
     "data": {
      "text/plain": [
       "True"
      ]
     },
     "execution_count": 49,
     "metadata": {},
     "output_type": "execute_result"
    }
   ],
   "source": [
    "\"a\".upper() == \"A\""
   ]
  },
  {
   "cell_type": "code",
   "execution_count": 50,
   "id": "c48b140d-d573-45c4-97e2-f2b358fc68f8",
   "metadata": {},
   "outputs": [
    {
     "data": {
      "text/plain": [
       "\u001b[0;31mInit signature:\u001b[0m \u001b[0mmap\u001b[0m\u001b[0;34m(\u001b[0m\u001b[0mself\u001b[0m\u001b[0;34m,\u001b[0m \u001b[0;34m/\u001b[0m\u001b[0;34m,\u001b[0m \u001b[0;34m*\u001b[0m\u001b[0margs\u001b[0m\u001b[0;34m,\u001b[0m \u001b[0;34m**\u001b[0m\u001b[0mkwargs\u001b[0m\u001b[0;34m)\u001b[0m\u001b[0;34m\u001b[0m\u001b[0;34m\u001b[0m\u001b[0m\n",
       "\u001b[0;31mDocstring:\u001b[0m     \n",
       "map(func, *iterables) --> map object\n",
       "\n",
       "Make an iterator that computes the function using arguments from\n",
       "each of the iterables.  Stops when the shortest iterable is exhausted.\n",
       "\u001b[0;31mType:\u001b[0m           type\n",
       "\u001b[0;31mSubclasses:\u001b[0m     "
      ]
     },
     "metadata": {},
     "output_type": "display_data"
    }
   ],
   "source": [
    "?map"
   ]
  },
  {
   "cell_type": "code",
   "execution_count": 53,
   "id": "e88f8b16-fa24-48d7-ae3c-7cfc0d69134e",
   "metadata": {},
   "outputs": [
    {
     "data": {
      "text/plain": [
       "False"
      ]
     },
     "execution_count": 53,
     "metadata": {},
     "output_type": "execute_result"
    }
   ],
   "source": [
    "letters = ['A', 'B', 'C' , 'D', 'e']\n",
    "\n",
    "# on n'a pas besoin de fonction\n",
    "all( map( lambda letter : letter.isupper(), letters ) )"
   ]
  },
  {
   "cell_type": "code",
   "execution_count": 63,
   "id": "ad131c07-e6fb-4b5d-8e04-7d0950b24643",
   "metadata": {},
   "outputs": [],
   "source": [
    "letters = ['A', 'B', 'C' , 'D', 'e']\n",
    "\n",
    "def testUpper(letters):\n",
    "    assert type(letters) == list\n",
    "\n",
    "    for letter in letters:\n",
    "        if letter.isupper() == False : return False\n",
    "\n",
    "    return True\n"
   ]
  },
  {
   "cell_type": "code",
   "execution_count": 64,
   "id": "7d210e55-29d4-47a5-8444-11e3d225cc14",
   "metadata": {},
   "outputs": [
    {
     "data": {
      "text/plain": [
       "True"
      ]
     },
     "execution_count": 64,
     "metadata": {},
     "output_type": "execute_result"
    }
   ],
   "source": [
    "testUpper(['A', 'B', 'C' , 'D', 'E'])"
   ]
  },
  {
   "cell_type": "code",
   "execution_count": 60,
   "id": "f0deb0b4-c483-459b-bc74-21e22e8873cd",
   "metadata": {},
   "outputs": [
    {
     "data": {
      "text/plain": [
       "True"
      ]
     },
     "execution_count": 60,
     "metadata": {},
     "output_type": "execute_result"
    }
   ],
   "source": [
    "type(letters) == list"
   ]
  },
  {
   "cell_type": "code",
   "execution_count": 65,
   "id": "f6c645f0-6655-4c53-af45-29d3fc1382a1",
   "metadata": {},
   "outputs": [
    {
     "data": {
      "text/plain": [
       "<map at 0x7fdc4272b4c0>"
      ]
     },
     "execution_count": 65,
     "metadata": {},
     "output_type": "execute_result"
    }
   ],
   "source": [
    "map( lambda letter : letter.isupper(), letters )"
   ]
  },
  {
   "cell_type": "code",
   "execution_count": 66,
   "id": "fc403d45-7f8b-4879-87ac-4b11c70ad99d",
   "metadata": {},
   "outputs": [
    {
     "data": {
      "text/plain": [
       "[True, True, True, True, False]"
      ]
     },
     "execution_count": 66,
     "metadata": {},
     "output_type": "execute_result"
    }
   ],
   "source": [
    "list( map( lambda letter : letter.isupper(), letters ) )"
   ]
  },
  {
   "cell_type": "code",
   "execution_count": 67,
   "id": "08c675e0-fb31-433b-a62e-6d70e4b9495e",
   "metadata": {},
   "outputs": [
    {
     "data": {
      "text/plain": [
       "False"
      ]
     },
     "execution_count": 67,
     "metadata": {},
     "output_type": "execute_result"
    }
   ],
   "source": [
    "all( map( lambda letter : letter.isupper(), letters ) )"
   ]
  },
  {
   "cell_type": "code",
   "execution_count": 69,
   "id": "b6c8dbb6-cfc5-4ee1-b60a-08436c35616b",
   "metadata": {},
   "outputs": [],
   "source": [
    "# tuple\n",
    "\n",
    "t = (1, 2)"
   ]
  },
  {
   "cell_type": "code",
   "execution_count": 71,
   "id": "25bf8f21-208b-4326-b9fd-484402044f39",
   "metadata": {},
   "outputs": [
    {
     "data": {
      "text/plain": [
       "(1, 2)"
      ]
     },
     "execution_count": 71,
     "metadata": {},
     "output_type": "execute_result"
    }
   ],
   "source": [
    "t[0], t[1]"
   ]
  },
  {
   "cell_type": "code",
   "execution_count": 72,
   "id": "795f940a-01dc-4633-a5d6-1664109ce9f1",
   "metadata": {},
   "outputs": [
    {
     "ename": "TypeError",
     "evalue": "'tuple' object does not support item assignment",
     "output_type": "error",
     "traceback": [
      "\u001b[0;31m---------------------------------------------------------------------------\u001b[0m",
      "\u001b[0;31mTypeError\u001b[0m                                 Traceback (most recent call last)",
      "Cell \u001b[0;32mIn[72], line 1\u001b[0m\n\u001b[0;32m----> 1\u001b[0m \u001b[43mt\u001b[49m\u001b[43m[\u001b[49m\u001b[38;5;241;43m0\u001b[39;49m\u001b[43m]\u001b[49m \u001b[38;5;241m=\u001b[39m \u001b[38;5;241m3\u001b[39m\n",
      "\u001b[0;31mTypeError\u001b[0m: 'tuple' object does not support item assignment"
     ]
    }
   ],
   "source": [
    "t[0] = 3"
   ]
  },
  {
   "cell_type": "code",
   "execution_count": 73,
   "id": "83fffa21-51a3-4f35-8487-e40763c07168",
   "metadata": {},
   "outputs": [],
   "source": [
    "a,b,c, d = 1, 2, 3, 4"
   ]
  },
  {
   "cell_type": "code",
   "execution_count": 74,
   "id": "dfcc98d1-68a1-4985-9c68-56f6eef5fcb3",
   "metadata": {},
   "outputs": [
    {
     "data": {
      "text/plain": [
       "(1, 2, 3, 4)"
      ]
     },
     "execution_count": 74,
     "metadata": {},
     "output_type": "execute_result"
    }
   ],
   "source": [
    "a,b,c, d"
   ]
  },
  {
   "cell_type": "code",
   "execution_count": 75,
   "id": "d09b9224-cb0e-4ba4-b5c5-b7d808fc3502",
   "metadata": {},
   "outputs": [],
   "source": [
    "a,b,c,d = b,c,d,a"
   ]
  },
  {
   "cell_type": "code",
   "execution_count": 76,
   "id": "e8ddf6e6-5d89-4243-95b8-61781ec58a3c",
   "metadata": {},
   "outputs": [
    {
     "data": {
      "text/plain": [
       "(2, 3, 4, 1)"
      ]
     },
     "execution_count": 76,
     "metadata": {},
     "output_type": "execute_result"
    }
   ],
   "source": [
    "a,b,c,d"
   ]
  },
  {
   "cell_type": "code",
   "execution_count": 77,
   "id": "9e7d3c45-e889-4fcd-9d08-3f8f82470dfd",
   "metadata": {},
   "outputs": [
    {
     "data": {
      "text/plain": [
       "False"
      ]
     },
     "execution_count": 77,
     "metadata": {},
     "output_type": "execute_result"
    }
   ],
   "source": [
    "(1, 2) == (2, 1)"
   ]
  },
  {
   "cell_type": "code",
   "execution_count": 78,
   "id": "a7a88a1f-fa30-490e-a9c0-1309c76d84df",
   "metadata": {},
   "outputs": [
    {
     "data": {
      "text/plain": [
       "True"
      ]
     },
     "execution_count": 78,
     "metadata": {},
     "output_type": "execute_result"
    }
   ],
   "source": [
    "(1, 2) == (1, 2)"
   ]
  },
  {
   "cell_type": "code",
   "execution_count": 79,
   "id": "a2601124-80a7-4137-9c9e-57a32fa12736",
   "metadata": {},
   "outputs": [
    {
     "data": {
      "text/plain": [
       "False"
      ]
     },
     "execution_count": 79,
     "metadata": {},
     "output_type": "execute_result"
    }
   ],
   "source": [
    "t = []\n",
    "\n",
    "(1,2) in t "
   ]
  },
  {
   "cell_type": "code",
   "execution_count": 84,
   "id": "fa3449df-b615-43bf-9ee6-647045d23814",
   "metadata": {},
   "outputs": [
    {
     "data": {
      "text/plain": [
       "True"
      ]
     },
     "execution_count": 84,
     "metadata": {},
     "output_type": "execute_result"
    }
   ],
   "source": [
    "t.append((2,1) )\n",
    "t.append((1,2))\n",
    "(1,2) in t         "
   ]
  },
  {
   "cell_type": "code",
   "execution_count": 103,
   "id": "b4e89aec-42e0-456a-9f7e-21657b5e9faa",
   "metadata": {},
   "outputs": [],
   "source": [
    "a,b,c, d = 1, 2, 3, 4\n",
    "def circular(a,b,c,d):\n",
    "    return b,c,d, a\n",
    "\n",
    "res = []\n",
    "res.append((a,b,c, d))\n",
    "v = ()\n",
    "while True:\n",
    "    a,b,c,d = circular(a,b,c,d)\n",
    "    v = a,b,c,d\n",
    "    if v in res: break\n",
    "    \n",
    "    res.append((a,b,c,d))"
   ]
  },
  {
   "cell_type": "code",
   "execution_count": 104,
   "id": "55797fca-e85f-4d2b-81da-93bd5e729e6c",
   "metadata": {},
   "outputs": [
    {
     "data": {
      "text/plain": [
       "[(1, 2, 3, 4), (2, 3, 4, 1), (3, 4, 1, 2), (4, 1, 2, 3)]"
      ]
     },
     "execution_count": 104,
     "metadata": {},
     "output_type": "execute_result"
    }
   ],
   "source": [
    "res"
   ]
  },
  {
   "cell_type": "code",
   "execution_count": 106,
   "id": "3ae9b06f-3346-4694-970f-94ce47b36951",
   "metadata": {},
   "outputs": [],
   "source": [
    "phrase ='aaabbbccc'"
   ]
  },
  {
   "cell_type": "code",
   "execution_count": 107,
   "id": "4e112b3a-f80a-458f-8832-dacbd32ca323",
   "metadata": {},
   "outputs": [
    {
     "data": {
      "text/plain": [
       "['a', 'b', 'c']"
      ]
     },
     "execution_count": 107,
     "metadata": {},
     "output_type": "execute_result"
    }
   ],
   "source": [
    "res = []\n",
    "\n",
    "for letter in phrase:\n",
    "    if letter not in res:\n",
    "        res.append(letter)\n",
    "res"
   ]
  },
  {
   "cell_type": "code",
   "execution_count": 108,
   "id": "d0d425f4-85b9-4977-a5b6-6e6076020b9a",
   "metadata": {},
   "outputs": [
    {
     "data": {
      "text/plain": [
       "{'a', 'b', 'c'}"
      ]
     },
     "execution_count": 108,
     "metadata": {},
     "output_type": "execute_result"
    }
   ],
   "source": [
    "phrase ='aaabbbccc'\n",
    "\n",
    "set(phrase)"
   ]
  },
  {
   "cell_type": "code",
   "execution_count": 112,
   "id": "44bfc999-dd82-41c0-a5a2-2df9762c18aa",
   "metadata": {},
   "outputs": [
    {
     "name": "stdout",
     "output_type": "stream",
     "text": [
      "a a a a b b b b b c c c c "
     ]
    }
   ],
   "source": [
    "for e in 'aaaabbbbbcccc':\n",
    "    print(e, end=\" \")"
   ]
  },
  {
   "cell_type": "code",
   "execution_count": 113,
   "id": "4b72006c-12e6-42de-b8d0-2fc4ca24dd4f",
   "metadata": {},
   "outputs": [],
   "source": [
    "phrase = \"mississippi\""
   ]
  },
  {
   "cell_type": "code",
   "execution_count": 119,
   "id": "1219f349-9c9e-4b9f-887a-e545c03a18f4",
   "metadata": {},
   "outputs": [
    {
     "data": {
      "text/plain": [
       "{'i', 'm', 'p', 's'}"
      ]
     },
     "execution_count": 119,
     "metadata": {},
     "output_type": "execute_result"
    }
   ],
   "source": [
    "letters = set(phrase)\n",
    "\n",
    "letters"
   ]
  },
  {
   "cell_type": "code",
   "execution_count": 121,
   "id": "acaf902b-deb5-48c4-b958-7508ca11f18b",
   "metadata": {},
   "outputs": [
    {
     "name": "stdout",
     "output_type": "stream",
     "text": [
      "{'m': 1, 's': 4, 'p': 2, 'i': 4}\n"
     ]
    }
   ],
   "source": [
    "s = {}\n",
    "for letter in letters:\n",
    "    count = 0\n",
    "    for p in phrase:\n",
    "        if letter == p: \n",
    "            count +=1\n",
    "    s[letter] = count\n",
    "\n",
    "print(s)"
   ]
  },
  {
   "cell_type": "code",
   "execution_count": 122,
   "id": "7badb7c9-750f-4772-9ac0-65a8369c8b3c",
   "metadata": {},
   "outputs": [
    {
     "data": {
      "text/plain": [
       "{'m': 1, 's': 4, 'p': 2, 'i': 4}"
      ]
     },
     "execution_count": 122,
     "metadata": {},
     "output_type": "execute_result"
    }
   ],
   "source": [
    "{ l : phrase.count(l) for l in set(phrase)  }"
   ]
  },
  {
   "cell_type": "code",
   "execution_count": 126,
   "id": "92676221-2beb-4cd6-b6b6-665d3f03a00d",
   "metadata": {},
   "outputs": [
    {
     "data": {
      "text/plain": [
       "-7436"
      ]
     },
     "execution_count": 126,
     "metadata": {},
     "output_type": "execute_result"
    }
   ],
   "source": [
    "number = -6347\n",
    "\n",
    "# ternaire déternimer le signe du nombre\n",
    "sign = -1 if number < 0 else 1\n",
    "\n",
    "# on utilise int et f\"\" pour respectivement caster en nombre et inverser la chaine de caractères\n",
    "sign * int( f\"{abs(number)}\"[::-1] )"
   ]
  },
  {
   "cell_type": "code",
   "execution_count": 128,
   "id": "e444485f-7c93-400b-a9ac-b6a51c6af54f",
   "metadata": {},
   "outputs": [],
   "source": [
    "phrase = [1,3,7,8,9,1,2,3,8, 1, 2, 3, 7, 8, 9, 1, 2, 3, 8, 10, 1, 2, 3]"
   ]
  },
  {
   "cell_type": "code",
   "execution_count": 136,
   "id": "9222f9c8-e5d8-4ca2-9166-389b18447491",
   "metadata": {},
   "outputs": [
    {
     "data": {
      "text/plain": [
       "{5: [1, 2, 3], 9: [1, 2, 3], 15: [1, 2, 3], 20: [1, 2, 3]}"
      ]
     },
     "execution_count": 136,
     "metadata": {},
     "output_type": "execute_result"
    }
   ],
   "source": [
    "def search_word(word, phrase):\n",
    "    s = {}\n",
    "    # pensez à mettre + 1 pour commencer à compter sur la dernière longueur\n",
    "    # sinon il s'arrete juste avant\n",
    "    for i in range(0, len(phrase) - len(word) + 1 ):\n",
    "        # print(phrase[i], end=\" \")\n",
    "        count = 0\n",
    "        for j in range(len(word) ):\n",
    "            # print( i,j, i+j)\n",
    "            if phrase[i+j] == word[j]:\n",
    "                count +=1\n",
    "\n",
    "        # print(count)\n",
    "        if count == len(word):\n",
    "            s[i] = word\n",
    "            \n",
    "    return s\n",
    "\n",
    "search_word([1,2,3], phrase)"
   ]
  },
  {
   "cell_type": "code",
   "execution_count": 137,
   "id": "4a8d428b-e22c-43a0-87ef-e80185d1f3cf",
   "metadata": {},
   "outputs": [
    {
     "data": {
      "text/plain": [
       "{0: 'bonjour', 22: 'bonjour', 44: 'bonjour'}"
      ]
     },
     "execution_count": 137,
     "metadata": {},
     "output_type": "execute_result"
    }
   ],
   "source": [
    "phrase = \"bonjour tout le monde bonjour tout le monde bonjour\"\n",
    "search_word(\"bonjour\", phrase)"
   ]
  },
  {
   "cell_type": "code",
   "execution_count": null,
   "id": "1ccda544-e226-4b85-98c9-1497cd71ffa6",
   "metadata": {},
   "outputs": [],
   "source": []
  }
 ],
 "metadata": {
  "kernelspec": {
   "display_name": "Python 3 (ipykernel)",
   "language": "python",
   "name": "python3"
  },
  "language_info": {
   "codemirror_mode": {
    "name": "ipython",
    "version": 3
   },
   "file_extension": ".py",
   "mimetype": "text/x-python",
   "name": "python",
   "nbconvert_exporter": "python",
   "pygments_lexer": "ipython3",
   "version": "3.11.9"
  }
 },
 "nbformat": 4,
 "nbformat_minor": 5
}
