{
 "cells": [
  {
   "cell_type": "code",
   "execution_count": 21,
   "id": "93209723-f25a-44c0-a18e-e811d6ea70f5",
   "metadata": {},
   "outputs": [
    {
     "name": "stdout",
     "output_type": "stream",
     "text": [
      "/home/jovyan/work/Data/analyse.csv\n"
     ]
    }
   ],
   "source": [
    "import os\n",
    "import csv\n",
    "import urllib.request\n",
    "import json\n",
    "import pandas as pd \n",
    "\n",
    "file_path = './Data/analyse.csv'\n",
    "\n",
    "path = os.path.abspath(file_path)\n",
    "print(path)"
   ]
  },
  {
   "cell_type": "code",
   "execution_count": 6,
   "id": "e50d44d4-b6ba-42ae-ae05-f7fe8821dcfc",
   "metadata": {},
   "outputs": [],
   "source": [
    "stream = open(path, 'r')\n",
    "ligne = stream.readline()\n",
    "while ligne != \"\":\n",
    "    #print(ligne)\n",
    "    ligne = stream.readline()\n",
    "\n",
    "stream.close()"
   ]
  },
  {
   "cell_type": "code",
   "execution_count": 9,
   "id": "051e81e5-eb34-49b3-a5f2-47729f8e97fa",
   "metadata": {},
   "outputs": [
    {
     "name": "stdout",
     "output_type": "stream",
     "text": [
      "[['Share-MOEX', '40.6', '16.69'], ['Share-GBGY', '27.08', '34.09'], ['Share-AXWK', '-9.27', '27.19'], ['Share-FJTI', '33.5', '20.81']]\n"
     ]
    }
   ],
   "source": [
    "# lire un fichier csv\n",
    "stream = open( path ,'r')\n",
    "reader = csv.reader(stream, delimiter=\",\" )\n",
    "\n",
    "lines = []\n",
    "for line in reader:\n",
    "    lines.append(line)\n",
    "print(lines[1:5])\n",
    "\n",
    "stream.close()"
   ]
  },
  {
   "cell_type": "code",
   "execution_count": 11,
   "id": "b67c76b4-10be-4b5e-bcbf-4efee08619a1",
   "metadata": {},
   "outputs": [],
   "source": [
    "# une autre manière de gérer \n",
    "# l'ouverture et la fermeture des fichiers\n",
    "with open( path ,'r') as f:\n",
    "    pass"
   ]
  },
  {
   "cell_type": "code",
   "execution_count": 14,
   "id": "409192ae-b2d5-4fca-9868-a13549caa271",
   "metadata": {},
   "outputs": [],
   "source": [
    "# cas pratique téléchargement d'un fichier sur le Web\n",
    "# ?urllib.request\n",
    "f = urllib.request.urlopen('https://data.boston.gov/api/3/action/datastore_search?resource_id=31358fd1-849a-48e0-8285-e813f6efbdf1')"
   ]
  },
  {
   "cell_type": "code",
   "execution_count": 15,
   "id": "becee616-96b2-4f3e-a2a7-073f34e5515c",
   "metadata": {},
   "outputs": [
    {
     "data": {
      "text/plain": [
       "<http.client.HTTPResponse at 0x7f66e93c5db0>"
      ]
     },
     "execution_count": 15,
     "metadata": {},
     "output_type": "execute_result"
    }
   ],
   "source": [
    "f"
   ]
  },
  {
   "cell_type": "code",
   "execution_count": 17,
   "id": "2efae5ec-c1f8-49a8-b6cd-b837e988099d",
   "metadata": {},
   "outputs": [],
   "source": [
    "#?urllib.request.urlopen"
   ]
  },
  {
   "cell_type": "code",
   "execution_count": 20,
   "id": "63c60eb9-d35a-48e2-b5a6-67af03dd5174",
   "metadata": {},
   "outputs": [],
   "source": [
    "# URL du fichier JSON sur le serveur\n",
    "url = 'https://data.boston.gov/api/3/action/datastore_search?resource_id=31358fd1-849a-48e0-8285-e813f6efbdf1'\n",
    "\n",
    "# Télécharger le fichier JSON\n",
    "with urllib.request.urlopen(url) as response:\n",
    "    data = response.read()\n",
    "\n",
    "# Convertir le contenu en un objet Python\n",
    "json_data = json.loads(data.decode('utf-8'))\n",
    "\n",
    "# Afficher les données JSON\n",
    "#print(json_data)"
   ]
  },
  {
   "cell_type": "code",
   "execution_count": 32,
   "id": "cf49535f-59d6-48c8-a6bb-51d215d70077",
   "metadata": {},
   "outputs": [],
   "source": [
    "dataDf = pd.DataFrame( json_data['result']['records'] )"
   ]
  },
  {
   "cell_type": "code",
   "execution_count": 33,
   "id": "a97a238c-f61c-41e4-9af2-3317555e8470",
   "metadata": {},
   "outputs": [
    {
     "data": {
      "text/html": [
       "<div>\n",
       "<style scoped>\n",
       "    .dataframe tbody tr th:only-of-type {\n",
       "        vertical-align: middle;\n",
       "    }\n",
       "\n",
       "    .dataframe tbody tr th {\n",
       "        vertical-align: top;\n",
       "    }\n",
       "\n",
       "    .dataframe thead th {\n",
       "        text-align: right;\n",
       "    }\n",
       "</style>\n",
       "<table border=\"1\" class=\"dataframe\">\n",
       "  <thead>\n",
       "    <tr style=\"text-align: right;\">\n",
       "      <th></th>\n",
       "      <th>_id</th>\n",
       "      <th>NAME</th>\n",
       "      <th>DEPARTMENT_NAME</th>\n",
       "      <th>TITLE</th>\n",
       "      <th>REGULAR</th>\n",
       "      <th>RETRO</th>\n",
       "      <th>OTHER</th>\n",
       "      <th>OVERTIME</th>\n",
       "      <th>INJURED</th>\n",
       "      <th>DETAIL</th>\n",
       "      <th>QUINN/EDUCATION INCENTIVE</th>\n",
       "      <th>TOTAL EARNINGS</th>\n",
       "      <th>POSTAL</th>\n",
       "    </tr>\n",
       "  </thead>\n",
       "  <tbody>\n",
       "    <tr>\n",
       "      <th>0</th>\n",
       "      <td>1</td>\n",
       "      <td>Williams,David C.</td>\n",
       "      <td>Boston Police Department</td>\n",
       "      <td>Police Officer</td>\n",
       "      <td>95,184.68</td>\n",
       "      <td>None</td>\n",
       "      <td>503,025.78</td>\n",
       "      <td>45,176.88</td>\n",
       "      <td>5,307.62</td>\n",
       "      <td>24,610.00</td>\n",
       "      <td>4,375.69</td>\n",
       "      <td>677,680.65</td>\n",
       "      <td>02356</td>\n",
       "    </tr>\n",
       "    <tr>\n",
       "      <th>1</th>\n",
       "      <td>2</td>\n",
       "      <td>Earley,John W</td>\n",
       "      <td>Boston Police Department</td>\n",
       "      <td>Police Lieutenant</td>\n",
       "      <td>26,130.54</td>\n",
       "      <td>13,001.47</td>\n",
       "      <td>204,120.61</td>\n",
       "      <td>668.36</td>\n",
       "      <td>None</td>\n",
       "      <td>440.00</td>\n",
       "      <td>6,532.63</td>\n",
       "      <td>250,893.61</td>\n",
       "      <td>02131</td>\n",
       "    </tr>\n",
       "    <tr>\n",
       "      <th>2</th>\n",
       "      <td>3</td>\n",
       "      <td>Bucelewicz,Helen</td>\n",
       "      <td>Boston Police Department</td>\n",
       "      <td>Police Officer</td>\n",
       "      <td>8,676.89</td>\n",
       "      <td>None</td>\n",
       "      <td>200,000.00</td>\n",
       "      <td>None</td>\n",
       "      <td>None</td>\n",
       "      <td>None</td>\n",
       "      <td>None</td>\n",
       "      <td>208,676.89</td>\n",
       "      <td>02135</td>\n",
       "    </tr>\n",
       "    <tr>\n",
       "      <th>3</th>\n",
       "      <td>4</td>\n",
       "      <td>Evans,William B</td>\n",
       "      <td>Boston Police Department</td>\n",
       "      <td>Commissioner (Bpd)</td>\n",
       "      <td>149,999.93</td>\n",
       "      <td>3,461.56</td>\n",
       "      <td>165,858.44</td>\n",
       "      <td>None</td>\n",
       "      <td>None</td>\n",
       "      <td>None</td>\n",
       "      <td>None</td>\n",
       "      <td>319,319.93</td>\n",
       "      <td>02127</td>\n",
       "    </tr>\n",
       "    <tr>\n",
       "      <th>4</th>\n",
       "      <td>5</td>\n",
       "      <td>Jones,Ronnie C</td>\n",
       "      <td>Boston Police Department</td>\n",
       "      <td>Police Officer</td>\n",
       "      <td>462,149.98</td>\n",
       "      <td>None</td>\n",
       "      <td>114,973.46</td>\n",
       "      <td>None</td>\n",
       "      <td>None</td>\n",
       "      <td>None</td>\n",
       "      <td>None</td>\n",
       "      <td>577,123.44</td>\n",
       "      <td>02126</td>\n",
       "    </tr>\n",
       "  </tbody>\n",
       "</table>\n",
       "</div>"
      ],
      "text/plain": [
       "   _id               NAME           DEPARTMENT_NAME               TITLE  \\\n",
       "0    1  Williams,David C.  Boston Police Department      Police Officer   \n",
       "1    2      Earley,John W  Boston Police Department   Police Lieutenant   \n",
       "2    3   Bucelewicz,Helen  Boston Police Department      Police Officer   \n",
       "3    4    Evans,William B  Boston Police Department  Commissioner (Bpd)   \n",
       "4    5     Jones,Ronnie C  Boston Police Department      Police Officer   \n",
       "\n",
       "      REGULAR      RETRO       OTHER   OVERTIME   INJURED     DETAIL  \\\n",
       "0   95,184.68       None  503,025.78  45,176.88  5,307.62  24,610.00   \n",
       "1   26,130.54  13,001.47  204,120.61     668.36      None     440.00   \n",
       "2    8,676.89       None  200,000.00       None      None       None   \n",
       "3  149,999.93   3,461.56  165,858.44       None      None       None   \n",
       "4  462,149.98       None  114,973.46       None      None       None   \n",
       "\n",
       "  QUINN/EDUCATION INCENTIVE TOTAL EARNINGS POSTAL  \n",
       "0                  4,375.69     677,680.65  02356  \n",
       "1                  6,532.63     250,893.61  02131  \n",
       "2                      None     208,676.89  02135  \n",
       "3                      None     319,319.93  02127  \n",
       "4                      None     577,123.44  02126  "
      ]
     },
     "execution_count": 33,
     "metadata": {},
     "output_type": "execute_result"
    }
   ],
   "source": [
    "dataDf.head()"
   ]
  },
  {
   "cell_type": "code",
   "execution_count": null,
   "id": "4fb5893d-7faa-4f4f-8862-ffd82dd8cef5",
   "metadata": {},
   "outputs": [],
   "source": [
    "dataD"
   ]
  }
 ],
 "metadata": {
  "kernelspec": {
   "display_name": "Python 3 (ipykernel)",
   "language": "python",
   "name": "python3"
  },
  "language_info": {
   "codemirror_mode": {
    "name": "ipython",
    "version": 3
   },
   "file_extension": ".py",
   "mimetype": "text/x-python",
   "name": "python",
   "nbconvert_exporter": "python",
   "pygments_lexer": "ipython3",
   "version": "3.11.9"
  }
 },
 "nbformat": 4,
 "nbformat_minor": 5
}
