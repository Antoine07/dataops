{
 "cells": [
  {
   "cell_type": "code",
   "execution_count": 1,
   "id": "d721a8c7-9bf3-4017-bc40-680157fd28f2",
   "metadata": {},
   "outputs": [],
   "source": [
    "import numpy as np"
   ]
  },
  {
   "cell_type": "code",
   "execution_count": 3,
   "id": "a47c75ee-8a3b-4e0b-9c84-1971f0638bfd",
   "metadata": {},
   "outputs": [],
   "source": [
    "# ?np # présentation ou aide en ligne"
   ]
  },
  {
   "cell_type": "code",
   "execution_count": 4,
   "id": "43d815b7-a8ae-4f3c-96fc-5f4ec60ae21c",
   "metadata": {},
   "outputs": [
    {
     "name": "stdout",
     "output_type": "stream",
     "text": [
      "{'int': [<class 'numpy.int8'>, <class 'numpy.int16'>, <class 'numpy.int32'>, <class 'numpy.int64'>], 'uint': [<class 'numpy.uint8'>, <class 'numpy.uint16'>, <class 'numpy.uint32'>, <class 'numpy.uint64'>], 'float': [<class 'numpy.float16'>, <class 'numpy.float32'>, <class 'numpy.float64'>, <class 'numpy.longdouble'>], 'complex': [<class 'numpy.complex64'>, <class 'numpy.complex128'>, <class 'numpy.clongdouble'>], 'others': [<class 'bool'>, <class 'object'>, <class 'bytes'>, <class 'str'>, <class 'numpy.void'>]}\n"
     ]
    }
   ],
   "source": [
    "print(np.sctypes)"
   ]
  },
  {
   "cell_type": "code",
   "execution_count": 5,
   "id": "94f520c3-ac98-4be3-b2bf-0373a7e3ada4",
   "metadata": {},
   "outputs": [],
   "source": [
    "status = np.array( [True, False])"
   ]
  },
  {
   "cell_type": "code",
   "execution_count": 6,
   "id": "c6dd041a-c03a-48b6-b795-ed5cd7d01b05",
   "metadata": {},
   "outputs": [
    {
     "data": {
      "text/plain": [
       "dtype('bool')"
      ]
     },
     "execution_count": 6,
     "metadata": {},
     "output_type": "execute_result"
    }
   ],
   "source": [
    "status.dtype"
   ]
  },
  {
   "cell_type": "code",
   "execution_count": 7,
   "id": "9300f5c2-a979-4e8f-8f5d-d291bcba8531",
   "metadata": {},
   "outputs": [],
   "source": [
    "status[0] = 9.0"
   ]
  },
  {
   "cell_type": "code",
   "execution_count": 8,
   "id": "c68083c6-5558-4dd7-a17f-f9d211cb68d1",
   "metadata": {},
   "outputs": [
    {
     "data": {
      "text/plain": [
       "array([ True, False])"
      ]
     },
     "execution_count": 8,
     "metadata": {},
     "output_type": "execute_result"
    }
   ],
   "source": [
    "status"
   ]
  },
  {
   "cell_type": "code",
   "execution_count": 9,
   "id": "caa350ae-7359-4c7f-8c73-af02d6df65f7",
   "metadata": {},
   "outputs": [],
   "source": [
    "status[0] = 0"
   ]
  },
  {
   "cell_type": "code",
   "execution_count": 10,
   "id": "d661bce7-c3e3-4462-b4fb-16454cb5cb8f",
   "metadata": {},
   "outputs": [
    {
     "data": {
      "text/plain": [
       "array([False, False])"
      ]
     },
     "execution_count": 10,
     "metadata": {},
     "output_type": "execute_result"
    }
   ],
   "source": [
    "status"
   ]
  },
  {
   "cell_type": "code",
   "execution_count": 11,
   "id": "bed0c1eb-33c9-4783-b62b-5f7e9cb73853",
   "metadata": {},
   "outputs": [
    {
     "data": {
      "text/plain": [
       "array([False, False])"
      ]
     },
     "execution_count": 11,
     "metadata": {},
     "output_type": "execute_result"
    }
   ],
   "source": [
    "status + status"
   ]
  },
  {
   "cell_type": "code",
   "execution_count": 12,
   "id": "de544b53-d037-4b13-9f28-289c279e32f0",
   "metadata": {},
   "outputs": [
    {
     "data": {
      "text/plain": [
       "array([0, 0])"
      ]
     },
     "execution_count": 12,
     "metadata": {},
     "output_type": "execute_result"
    }
   ],
   "source": [
    "2*status"
   ]
  },
  {
   "cell_type": "code",
   "execution_count": 13,
   "id": "46bb2016-1fcf-4e0b-86a5-cd2b505b9c1c",
   "metadata": {},
   "outputs": [
    {
     "data": {
      "text/plain": [
       "array([False, False])"
      ]
     },
     "execution_count": 13,
     "metadata": {},
     "output_type": "execute_result"
    }
   ],
   "source": [
    "status"
   ]
  },
  {
   "cell_type": "code",
   "execution_count": 15,
   "id": "c7f23c52-4e99-4d7e-965f-e08d8d1485f0",
   "metadata": {},
   "outputs": [
    {
     "data": {
      "text/plain": [
       "array([ 1.,  2., nan])"
      ]
     },
     "execution_count": 15,
     "metadata": {},
     "output_type": "execute_result"
    }
   ],
   "source": [
    "np.array([1, 2, np.nan], dtype='float64')"
   ]
  },
  {
   "cell_type": "code",
   "execution_count": 17,
   "id": "333cf6ab-377d-4f6e-8976-8d51026a588b",
   "metadata": {},
   "outputs": [],
   "source": [
    "a = np.array([\"Big data\", \"Python\", \"Pandas\"])"
   ]
  },
  {
   "cell_type": "code",
   "execution_count": 18,
   "id": "3876f9ae-0af0-415c-9893-2f3248f2e50c",
   "metadata": {},
   "outputs": [],
   "source": [
    "a[0] = \"Bonjour avez vous trouver une alternance ?\""
   ]
  },
  {
   "cell_type": "code",
   "execution_count": 19,
   "id": "3c435a46-9159-43b7-9eb0-fdbed857e231",
   "metadata": {},
   "outputs": [
    {
     "data": {
      "text/plain": [
       "array(['Bonjour ', 'Python', 'Pandas'], dtype='<U8')"
      ]
     },
     "execution_count": 19,
     "metadata": {},
     "output_type": "execute_result"
    }
   ],
   "source": [
    "a"
   ]
  },
  {
   "cell_type": "code",
   "execution_count": 20,
   "id": "47ad5aee-ed50-454b-b309-290dfcb2c584",
   "metadata": {},
   "outputs": [],
   "source": [
    "dt = np.dtype([\n",
    "    ('name', np.dtype('U14')), ('grades', np.float64) \n",
    "])"
   ]
  },
  {
   "cell_type": "code",
   "execution_count": 21,
   "id": "3a7de9e2-bf3c-43bd-8894-8ef815108096",
   "metadata": {},
   "outputs": [],
   "source": [
    "dataset = np.array([\n",
    "      ( \"Luce du Coulon\" , 12.5),\n",
    "      ( \"Auguste Dupont\", 8.5),\n",
    "      ( \"Roger Le Voisi\", 1.5)\n",
    "], dtype=dt)"
   ]
  },
  {
   "cell_type": "code",
   "execution_count": 22,
   "id": "5168d332-7266-4127-b809-0c334ea8c8ea",
   "metadata": {},
   "outputs": [
    {
     "data": {
      "text/plain": [
       "array([('Luce du Coulon', 12.5), ('Auguste Dupont',  8.5),\n",
       "       ('Roger Le Voisi',  1.5)],\n",
       "      dtype=[('name', '<U14'), ('grades', '<f8')])"
      ]
     },
     "execution_count": 22,
     "metadata": {},
     "output_type": "execute_result"
    }
   ],
   "source": [
    "dataset"
   ]
  },
  {
   "cell_type": "code",
   "execution_count": 25,
   "id": "b94ab5b4-0a61-4c00-a324-58914e78871e",
   "metadata": {},
   "outputs": [
    {
     "data": {
      "text/plain": [
       "array([  1,   2, 125], dtype=int8)"
      ]
     },
     "execution_count": 25,
     "metadata": {},
     "output_type": "execute_result"
    }
   ],
   "source": [
    "np.array([1, 2, 125], dtype='int8')"
   ]
  },
  {
   "cell_type": "code",
   "execution_count": 27,
   "id": "41b4448f-151c-4700-a816-8492b21ca311",
   "metadata": {},
   "outputs": [
    {
     "name": "stderr",
     "output_type": "stream",
     "text": [
      "/tmp/ipykernel_415/1680600612.py:1: DeprecationWarning: NumPy will stop allowing conversion of out-of-bound Python integers to integer arrays.  The conversion of 400 to int8 will fail in the future.\n",
      "For the old behavior, usually:\n",
      "    np.array(value).astype(dtype)\n",
      "will give the desired result (the cast overflows).\n",
      "  np.array([1, 2, 400], dtype='int8')\n"
     ]
    },
    {
     "data": {
      "text/plain": [
       "array([   1,    2, -112], dtype=int8)"
      ]
     },
     "execution_count": 27,
     "metadata": {},
     "output_type": "execute_result"
    }
   ],
   "source": [
    "np.array([1, 2, 400], dtype='int8')"
   ]
  },
  {
   "cell_type": "code",
   "execution_count": 29,
   "id": "f89c0502-c4f1-48a2-bd49-49eee4d81f9b",
   "metadata": {},
   "outputs": [
    {
     "data": {
      "text/plain": [
       "dtype('float64')"
      ]
     },
     "execution_count": 29,
     "metadata": {},
     "output_type": "execute_result"
    }
   ],
   "source": [
    "np.zeros(3).dtype"
   ]
  },
  {
   "cell_type": "code",
   "execution_count": 31,
   "id": "7bc5fd92-5e72-4f48-bd74-c7fa6db58fa3",
   "metadata": {},
   "outputs": [],
   "source": [
    "s = np.zeros((2,2))"
   ]
  },
  {
   "cell_type": "code",
   "execution_count": 32,
   "id": "d3f70e2a-8710-4c5f-9984-f24f4be72d6e",
   "metadata": {},
   "outputs": [],
   "source": [
    "s[0,0] = 1"
   ]
  },
  {
   "cell_type": "code",
   "execution_count": 33,
   "id": "01904efc-0dd2-447a-9ce2-2a894feb9738",
   "metadata": {},
   "outputs": [
    {
     "data": {
      "text/plain": [
       "array([[1., 0.],\n",
       "       [0., 0.]])"
      ]
     },
     "execution_count": 33,
     "metadata": {},
     "output_type": "execute_result"
    }
   ],
   "source": [
    "s"
   ]
  },
  {
   "cell_type": "code",
   "execution_count": 34,
   "id": "8d455e6f-691a-4e42-9dbe-3e454a59a1a5",
   "metadata": {},
   "outputs": [],
   "source": [
    "collections = np.empty(10)"
   ]
  },
  {
   "cell_type": "code",
   "execution_count": 35,
   "id": "8c2f12d3-6f9c-4420-8f66-a103d8d682b2",
   "metadata": {},
   "outputs": [
    {
     "data": {
      "text/plain": [
       "array([4.64805205e-310, 0.00000000e+000, 0.00000000e+000, 0.00000000e+000,\n",
       "       0.00000000e+000, 1.76036810e-076, 9.04779959e-043, 5.88755624e-091,\n",
       "       3.92587601e-033, 4.50885250e-315])"
      ]
     },
     "execution_count": 35,
     "metadata": {},
     "output_type": "execute_result"
    }
   ],
   "source": [
    "collections"
   ]
  },
  {
   "cell_type": "code",
   "execution_count": 36,
   "id": "15c86ebc-d69b-4b30-840d-4484367d3b8b",
   "metadata": {},
   "outputs": [],
   "source": [
    "# Création de tableau\n",
    "data = np.zeros(10)"
   ]
  },
  {
   "cell_type": "code",
   "execution_count": 37,
   "id": "f87d0da8-d9af-48cc-834e-e99c068b70a4",
   "metadata": {},
   "outputs": [],
   "source": [
    "data = data + 1"
   ]
  },
  {
   "cell_type": "code",
   "execution_count": 38,
   "id": "bf687ad1-5aec-42dd-9798-34f1764007df",
   "metadata": {},
   "outputs": [
    {
     "data": {
      "text/plain": [
       "array([1., 1., 1., 1., 1., 1., 1., 1., 1., 1.])"
      ]
     },
     "execution_count": 38,
     "metadata": {},
     "output_type": "execute_result"
    }
   ],
   "source": [
    "data"
   ]
  },
  {
   "cell_type": "code",
   "execution_count": 39,
   "id": "f9cddbca-35d2-436f-bc75-b5c61c24941c",
   "metadata": {},
   "outputs": [
    {
     "data": {
      "text/plain": [
       "83"
      ]
     },
     "execution_count": 39,
     "metadata": {},
     "output_type": "execute_result"
    }
   ],
   "source": [
    "np.random.randint(1, 100)"
   ]
  },
  {
   "cell_type": "code",
   "execution_count": null,
   "id": "50349bc8-a640-40d8-8c62-7301e3cd27cb",
   "metadata": {},
   "outputs": [],
   "source": [
    "# Exercice faire un algorithme qui rempli le tableau data de valeurs aléatoires"
   ]
  }
 ],
 "metadata": {
  "kernelspec": {
   "display_name": "Python 3 (ipykernel)",
   "language": "python",
   "name": "python3"
  },
  "language_info": {
   "codemirror_mode": {
    "name": "ipython",
    "version": 3
   },
   "file_extension": ".py",
   "mimetype": "text/x-python",
   "name": "python",
   "nbconvert_exporter": "python",
   "pygments_lexer": "ipython3",
   "version": "3.11.9"
  }
 },
 "nbformat": 4,
 "nbformat_minor": 5
}
