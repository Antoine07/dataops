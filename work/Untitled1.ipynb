{
 "cells": [
  {
   "cell_type": "code",
   "execution_count": 1,
   "id": "e20c90e6-7c6b-4106-a0d0-b2bafd2fb726",
   "metadata": {},
   "outputs": [],
   "source": [
    "import numpy as np"
   ]
  },
  {
   "cell_type": "code",
   "execution_count": 2,
   "id": "3cf34902-096d-483e-8ddf-ca344cd39186",
   "metadata": {},
   "outputs": [],
   "source": [
    "x1 = np.array([[9, 1, 2],\n",
    "       [8, 0, 2],\n",
    "       [5, 1, 5]])"
   ]
  },
  {
   "cell_type": "code",
   "execution_count": 4,
   "id": "1d62e890-08e6-4bfe-a5af-e178c0419893",
   "metadata": {},
   "outputs": [
    {
     "data": {
      "text/plain": [
       "array([12, 10, 11])"
      ]
     },
     "execution_count": 4,
     "metadata": {},
     "output_type": "execute_result"
    }
   ],
   "source": [
    "x1.sum(1)"
   ]
  },
  {
   "cell_type": "code",
   "execution_count": 5,
   "id": "0fe2097e-79b8-4c9a-9a95-686185754d12",
   "metadata": {},
   "outputs": [
    {
     "data": {
      "text/plain": [
       "array([22,  2,  9])"
      ]
     },
     "execution_count": 5,
     "metadata": {},
     "output_type": "execute_result"
    }
   ],
   "source": [
    "x1.sum(0)"
   ]
  },
  {
   "cell_type": "code",
   "execution_count": 6,
   "id": "5065f3c6-39e6-4cb2-909d-500b89d0197f",
   "metadata": {},
   "outputs": [],
   "source": [
    "prices = np.array([82, 92, 89, 65, 77, 66, 69, 65, 79, 51])"
   ]
  },
  {
   "cell_type": "code",
   "execution_count": 9,
   "id": "79274c5f-3ba9-47b9-9f58-a37d9a82782c",
   "metadata": {},
   "outputs": [
    {
     "data": {
      "text/plain": [
       "array([118.08, 132.48, 128.16,  93.6 , 110.88,  95.04,  99.36,  93.6 ,\n",
       "       113.76,  73.44])"
      ]
     },
     "execution_count": 9,
     "metadata": {},
     "output_type": "execute_result"
    }
   ],
   "source": [
    "prices = prices*1.2\n",
    "\n",
    "augmentation = lambda v : 1.2 *v \n",
    "\n",
    "augmentation(prices)"
   ]
  },
  {
   "cell_type": "code",
   "execution_count": null,
   "id": "70bb704a-3545-4dea-b37f-76088a7387bf",
   "metadata": {},
   "outputs": [],
   "source": []
  }
 ],
 "metadata": {
  "kernelspec": {
   "display_name": "Python 3 (ipykernel)",
   "language": "python",
   "name": "python3"
  },
  "language_info": {
   "codemirror_mode": {
    "name": "ipython",
    "version": 3
   },
   "file_extension": ".py",
   "mimetype": "text/x-python",
   "name": "python",
   "nbconvert_exporter": "python",
   "pygments_lexer": "ipython3",
   "version": "3.11.9"
  }
 },
 "nbformat": 4,
 "nbformat_minor": 5
}
