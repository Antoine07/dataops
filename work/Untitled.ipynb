{
 "cells": [
  {
   "cell_type": "code",
   "execution_count": 2,
   "id": "c8d94d18-348d-4fc8-b998-c38d8843e52a",
   "metadata": {},
   "outputs": [
    {
     "name": "stdout",
     "output_type": "stream",
     "text": [
      "         name      price     profit  benefice\n",
      "0  Share-MOEX  40.599998  16.690001  0.411084\n",
      "1  Share-GBGY  27.080000  34.090000  1.258863\n",
      "2  Share-AXWK  -9.270000  27.190001 -2.933117\n",
      "3  Share-FJTI  33.500000  20.809999  0.621194\n",
      "4  Share-LGDP  15.260000   3.400000  0.222805\n",
      "Maximum Profit: 10683.389977797866\n",
      "Selected Shares: ['Share-UIOB', 'Share-VQCG', 'Share-CVCZ', 'Share-BMVE', 'Share-IOMJ', 'Share-WPHZ', 'Share-YUIL', 'Share-LXPG', 'Share-VEOE', 'Share-CKQW', 'Share-MQIP', 'Share-XCGP', 'Share-PJCC', 'Share-MTPO', 'Share-XJGM', 'Share-YJHG', 'Share-TLTU', 'Share-ZSHC', 'Share-PSAK', 'Share-HUCA', 'Share-UQIN', 'Share-MARL', 'Share-ZLUL', 'Share-UECW', 'Share-UCGO', 'Share-NECJ', 'Share-BEIH', 'Share-UQDO', 'Share-NDYN', 'Share-NGKD', 'Share-IGJC', 'Share-BWCL', 'Share-TEUY', 'Share-VWEA', 'Share-JIJJ', 'Share-JKGJ', 'Share-PMUE', 'Share-BGOI', 'Share-CIUN', 'Share-ACNT', 'Share-AHMF', 'Share-RBJY', 'Share-TFLS', 'Share-LKFF', 'Share-ONOK', 'Share-SKHH', 'Share-XQBD', 'Share-IPEY', 'Share-TNFX', 'Share-CLVH', 'Share-CEGT', 'Share-TDMU', 'Share-NEJL', 'Share-XMSS', 'Share-TDXN', 'Share-XQVX', 'Share-TVEZ', 'Share-SHXC', 'Share-BUBP', 'Share-EBRM', 'Share-ZOYI', 'Share-KLTG', 'Share-GONR', 'Share-IHZZ', 'Share-VKXZ', 'Share-VARN', 'Share-YCHH', 'Share-SMTV', 'Share-RRWA', 'Share-DVQD', 'Share-RCYO', 'Share-JYBL', 'Share-QMPF', 'Share-DTZD', 'Share-OKBS', 'Share-IKWU', 'Share-EWXE', 'Share-OTJL', 'Share-LXVS', 'Share-EQXP', 'Share-ZKPO', 'Share-SBVQ', 'Share-GRZE', 'Share-NPQZ', 'Share-FKYG', 'Share-ZBEV', 'Share-KKOT', 'Share-OBRM', 'Share-LZQF', 'Share-VSLW', 'Share-TOSB', 'Share-FFKQ', 'Share-OVMJ', 'Share-GVNC', 'Share-CPMK', 'Share-SHSN', 'Share-PSQJ', 'Share-IHUL', 'Share-IOER', 'Share-KARR', 'Share-ROML', 'Share-XLIZ', 'Share-TPXH', 'Share-TNXZ', 'Share-UTYB', 'Share-LUAH', 'Share-EGRN', 'Share-KPCE', 'Share-CXHY', 'Share-KLBZ', 'Share-IZPU', 'Share-UYTD', 'Share-UWPP', 'Share-GVQR', 'Share-PWFB', 'Share-XPNN', 'Share-HODN', 'Share-FYPW', 'Share-KHHS', 'Share-HVGG', 'Share-FCNH', 'Share-ZMYD', 'Share-ZCCM', 'Share-LKJC', 'Share-XZJA', 'Share-TWBW', 'Share-CKKT', 'Share-DCSI', 'Share-PVOF', 'Share-OEKW', 'Share-CSHN', 'Share-BCRH', 'Share-VPJK', 'Share-YRHL', 'Share-CFTN', 'Share-YSYQ', 'Share-UURA', 'Share-DKEH', 'Share-ICZI', 'Share-WGAF', 'Share-QHSX', 'Share-RIZG', 'Share-XDFA', 'Share-SUWC', 'Share-CRTA', 'Share-KJOZ', 'Share-MMBX', 'Share-GFVQ', 'Share-NXMJ', 'Share-ERJT', 'Share-IRTW', 'Share-WVRU', 'Share-UNEB', 'Share-LXVL', 'Share-JMNJ', 'Share-LCVY', 'Share-OLPM', 'Share-ZTTS', 'Share-QTXH', 'Share-NONY', 'Share-PHHY', 'Share-OGCK', 'Share-TXMC', 'Share-MOER', 'Share-BMCJ', 'Share-VLSN', 'Share-USYD', 'Share-YQGK', 'Share-SQDP', 'Share-BFWU', 'Share-SHXW', 'Share-TULV', 'Share-BVWI', 'Share-HKWL', 'Share-QKBL', 'Share-QQNK', 'Share-YQYJ', 'Share-CLRP', 'Share-VUWI', 'Share-EPGY', 'Share-WATV', 'Share-OBKS', 'Share-QXFW', 'Share-RPRY', 'Share-GYCU', 'Share-XTZL', 'Share-OZNC', 'Share-TYEE', 'Share-DEFG', 'Share-BDTH', 'Share-BTDW', 'Share-EPUR', 'Share-HGAB', 'Share-HYAJ', 'Share-XYLX', 'Share-QFSM', 'Share-AXIW', 'Share-POKS', 'Share-VTTC', 'Share-IORJ', 'Share-SXXV', 'Share-KXMK', 'Share-LQBV', 'Share-IYJX', 'Share-SOZE', 'Share-EGWW', 'Share-VNNW', 'Share-KRLB', 'Share-XXGF', 'Share-XMYX', 'Share-ZLRS', 'Share-UMBE', 'Share-LBYX', 'Share-MPMV', 'Share-JNBX', 'Share-ADEW', 'Share-UIOA', 'Share-TCMR', 'Share-FEPY', 'Share-LKSD', 'Share-DYVD', 'Share-JMLZ', 'Share-JWDZ', 'Share-ZLMC', 'Share-OCKK', 'Share-LXZU', 'Share-FUGM', 'Share-BBNF', 'Share-DSOO', 'Share-BMHD', 'Share-FFZA', 'Share-MEQV', 'Share-GEBJ', 'Share-SCWM', 'Share-FAKH', 'Share-KOVS', 'Share-DEPW', 'Share-KPBW', 'Share-CXYC', 'Share-VQQX', 'Share-BPPA', 'Share-GRVG', 'Share-DQXJ', 'Share-VVYP', 'Share-LAIC', 'Share-RBCS', 'Share-FCHD', 'Share-IWTG', 'Share-XQII', 'Share-FUDY', 'Share-LFXB', 'Share-ZGFP', 'Share-ROOM', 'Share-OWMP', 'Share-TGPO', 'Share-MZLD', 'Share-XYMR', 'Share-EOEN', 'Share-KRRA', 'Share-TQMM', 'Share-YIFQ', 'Share-FWBE', 'Share-OEYT', 'Share-JCWZ', 'Share-RWIW', 'Share-PILL', 'Share-BIJV', 'Share-GIXZ', 'Share-GYES', 'Share-PLLK', 'Share-TMRA', 'Share-ZKOZ', 'Share-DHIE', 'Share-BUKX', 'Share-WSRV', 'Share-EMME', 'Share-KJLB', 'Share-PAZC', 'Share-QGTL', 'Share-WNJN', 'Share-ASGL', 'Share-WUWQ', 'Share-BWCA', 'Share-BYFY', 'Share-VNAZ', 'Share-SYIK', 'Share-OUFV', 'Share-NMLA', 'Share-NDBC', 'Share-SFLQ', 'Share-YHVF', 'Share-CRQO', 'Share-KEZV', 'Share-DZXH', 'Share-BWOX', 'Share-DHVR', 'Share-XNKA', 'Share-DEQM', 'Share-LEOL', 'Share-KUHB', 'Share-YJBT', 'Share-LZLD', 'Share-SKSP', 'Share-RVXK', 'Share-RYXC', 'Share-CNFG', 'Share-BYNH', 'Share-BCFB', 'Share-DEKT', 'Share-ORYZ', 'Share-DRVS', 'Share-XFTN', 'Share-JLWC', 'Share-FALC', 'Share-EPFF', 'Share-ABGS', 'Share-SDCW', 'Share-YHLO', 'Share-WMPH', 'Share-RZAH', 'Share-FMXA', 'Share-PPQF', 'Share-KMOS', 'Share-AESX', 'Share-RBKG', 'Share-BZTM', 'Share-IYRM', 'Share-UXRX', 'Share-FDLS', 'Share-XMVT', 'Share-IRFE', 'Share-JVQK', 'Share-ULSA', 'Share-HFJJ', 'Share-WSXP', 'Share-AOMD', 'Share-JTVI', 'Share-TDAD', 'Share-TPBA', 'Share-GBAP', 'Share-TXQH', 'Share-LHAJ', 'Share-JKKM', 'Share-ADAJ', 'Share-FUVN', 'Share-FZOB', 'Share-MWRK', 'Share-GPYU', 'Share-MRIQ', 'Share-XBHF', 'Share-BDGA', 'Share-OESN', 'Share-SAUO', 'Share-BPHH', 'Share-JWKJ', 'Share-XGGB', 'Share-JWGM', 'Share-HNPG', 'Share-YVHX', 'Share-ZSES', 'Share-FCAY', 'Share-SRKH', 'Share-GRSD', 'Share-GHMF', 'Share-AXWK', 'Share-KDZP', 'Share-NUSH', 'Share-KRWB', 'Share-ROVP', 'Share-VOTM', 'Share-NFQC', 'Share-JPEA', 'Share-HCIO', 'Share-JJUY', 'Share-ACBZ', 'Share-XSEW', 'Share-WKEP', 'Share-TEWM', 'Share-BRMD', 'Share-ONSO', 'Share-IKIM', 'Share-LJAS', 'Share-MEBX', 'Share-QCZB', 'Share-JZRS', 'Share-EWUO', 'Share-LGYC', 'Share-NTYY', 'Share-MKDP', 'Share-TVZL', 'Share-NOSY', 'Share-VGQZ', 'Share-GINJ', 'Share-SFHD', 'Share-ULRO', 'Share-NHGK', 'Share-SXKM', 'Share-MMAO', 'Share-IZGR', 'Share-CIJC', 'Share-BXUF', 'Share-RSBW', 'Share-DWYI', 'Share-WOQD', 'Share-EPXG', 'Share-GUES', 'Share-OKXH', 'Share-HZSS', 'Share-GQOC', 'Share-XOMG', 'Share-NQKJ', 'Share-ERUA', 'Share-VYEK', 'Share-GTSA', 'Share-JDYS', 'Share-CUXK', 'Share-SVIR', 'Share-JGUL', 'Share-DOOX', 'Share-QSSO', 'Share-SWKP', 'Share-AWIK', 'Share-MPJI', 'Share-XCPD', 'Share-QGLA', 'Share-FGMM', 'Share-RTAG', 'Share-GXBC', 'Share-TMKW', 'Share-TBBO', 'Share-RALV', 'Share-KWXB', 'Share-PDWT', 'Share-NCUV', 'Share-NSCW', 'Share-TFYL', 'Share-IUNE', 'Share-UEEQ', 'Share-JVCL', 'Share-BMCT', 'Share-QDMR', 'Share-KOXO', 'Share-OOQI', 'Share-AYYS', 'Share-QHYW', 'Share-IKPS', 'Share-ZRON', 'Share-GUDZ', 'Share-UJAG', 'Share-QQGM', 'Share-RCCZ', 'Share-EIAY', 'Share-IVAK', 'Share-ZOFI', 'Share-EPSR', 'Share-MCNV', 'Share-LOZE', 'Share-OEHW', 'Share-YNGA', 'Share-AKKQ', 'Share-PRUE', 'Share-LLUK', 'Share-OOGV', 'Share-MYLT', 'Share-NZJM', 'Share-FWZL', 'Share-HQEZ', 'Share-VSEE', 'Share-XQYT', 'Share-GJRG', 'Share-WXHZ', 'Share-IVRT', 'Share-AVAP', 'Share-CVGN', 'Share-FVKD', 'Share-BHNC', 'Share-FKHU', 'Share-TNLL', 'Share-SNZC', 'Share-QCTW', 'Share-BSQQ', 'Share-ZGPC', 'Share-XZBG', 'Share-PVHB', 'Share-BLWI', 'Share-QPIK', 'Share-SQVH', 'Share-KHIC', 'Share-DAVR', 'Share-PUCI', 'Share-CKTX', 'Share-LBBB', 'Share-OFHH', 'Share-RPPH', 'Share-ELVN', 'Share-ZVXT', 'Share-EXMW', 'Share-VTYT', 'Share-WOIE', 'Share-OSSO', 'Share-WFJB', 'Share-CDAN', 'Share-DIZL', 'Share-LXEY', 'Share-RBOO', 'Share-DTQP', 'Share-TLSA', 'Share-XROZ', 'Share-AMXX', 'Share-MEXS', 'Share-GHQY', 'Share-GWDU', 'Share-ROSM']\n"
     ]
    }
   ],
   "source": [
    "import pandas as pd\n",
    "import numpy as np\n",
    "\n",
    "# Charger les données CSV\n",
    "data = pd.read_csv('Data/analyse.csv', na_values=['NA', 'NULL'])\n",
    "\n",
    "# Caster les colonnes en types plus rapides (par exemple, float32 au lieu de float64)\n",
    "data['price'] = data['price'].astype(np.float32)\n",
    "data['profit'] = data['profit'].astype(np.float32)\n",
    "\n",
    "# Ajouter une colonne \"benefice\" qui est le ratio profit/prix\n",
    "data['benefice'] = data['profit'] / data['price']\n",
    "\n",
    "# Afficher les premières lignes pour vérifier\n",
    "print(data.head())\n",
    "\n",
    "# Exemple : Calculer le bénéfice total d'un ensemble d'actions en fonction des prix et des profits\n",
    "# On suppose ici qu'on a un budget maximum, et on veut maximiser le profit\n",
    "budget = 500  # Exemple de budget à respecter\n",
    "\n",
    "def calculate_max_profit(data, budget):\n",
    "    # Trier les données par le ratio \"benefice\" (du plus grand au plus petit)\n",
    "    sorted_data = data.sort_values(by='benefice', ascending=False)\n",
    "    \n",
    "    total_profit = 0\n",
    "    total_price = 0\n",
    "    selected_shares = []\n",
    "\n",
    "    # Parcourir les lignes du DataFrame trié et sélectionner les actions tant que le budget le permet\n",
    "    for index, row in sorted_data.iterrows():\n",
    "        if total_price + row['price'] <= budget:\n",
    "            selected_shares.append(row['name'])\n",
    "            total_profit += row['profit']\n",
    "            total_price += row['price']\n",
    "    \n",
    "    return total_profit, selected_shares\n",
    "\n",
    "# Calculer le profit maximal avec la méthode optimisée\n",
    "max_profit, selected_shares = calculate_max_profit(data, budget)\n",
    "print(f\"Maximum Profit: {max_profit}\")\n",
    "print(f\"Selected Shares: {selected_shares}\")\n"
   ]
  },
  {
   "cell_type": "code",
   "execution_count": 1,
   "id": "3f7b9e77-d4fc-411a-9589-6dd4db18b25e",
   "metadata": {},
   "outputs": [
    {
     "ename": "KeyboardInterrupt",
     "evalue": "",
     "output_type": "error",
     "traceback": [
      "\u001b[0;31m---------------------------------------------------------------------------\u001b[0m",
      "\u001b[0;31mKeyboardInterrupt\u001b[0m                         Traceback (most recent call last)",
      "Cell \u001b[0;32mIn[1], line 34\u001b[0m\n\u001b[1;32m     31\u001b[0m     \u001b[38;5;28;01mreturn\u001b[39;00m max_profit, best_combination\n\u001b[1;32m     33\u001b[0m \u001b[38;5;66;03m# Exécuter l'algorithme brute force\u001b[39;00m\n\u001b[0;32m---> 34\u001b[0m max_profit_brute, best_combination_brute \u001b[38;5;241m=\u001b[39m \u001b[43mbrute_force_max_profit\u001b[49m\u001b[43m(\u001b[49m\u001b[43mdata\u001b[49m\u001b[43m,\u001b[49m\u001b[43m \u001b[49m\u001b[43mbudget\u001b[49m\u001b[43m)\u001b[49m\n\u001b[1;32m     36\u001b[0m \u001b[38;5;28mprint\u001b[39m(\u001b[38;5;124mf\u001b[39m\u001b[38;5;124m\"\u001b[39m\u001b[38;5;124mBrute Force - Maximum Profit: \u001b[39m\u001b[38;5;132;01m{\u001b[39;00mmax_profit_brute\u001b[38;5;132;01m}\u001b[39;00m\u001b[38;5;124m\"\u001b[39m)\n\u001b[1;32m     37\u001b[0m \u001b[38;5;28mprint\u001b[39m(\u001b[38;5;124mf\u001b[39m\u001b[38;5;124m\"\u001b[39m\u001b[38;5;124mBrute Force - Best Combination: \u001b[39m\u001b[38;5;132;01m{\u001b[39;00mbest_combination_brute\u001b[38;5;132;01m}\u001b[39;00m\u001b[38;5;124m\"\u001b[39m)\n",
      "Cell \u001b[0;32mIn[1], line 24\u001b[0m, in \u001b[0;36mbrute_force_max_profit\u001b[0;34m(data, budget)\u001b[0m\n\u001b[1;32m     22\u001b[0m \u001b[38;5;28;01mfor\u001b[39;00m combo \u001b[38;5;129;01min\u001b[39;00m combinations(\u001b[38;5;28mrange\u001b[39m(n), r):\n\u001b[1;32m     23\u001b[0m     total_price \u001b[38;5;241m=\u001b[39m np\u001b[38;5;241m.\u001b[39msum(data[\u001b[38;5;124m'\u001b[39m\u001b[38;5;124mprice\u001b[39m\u001b[38;5;124m'\u001b[39m]\u001b[38;5;241m.\u001b[39miloc[\u001b[38;5;28mlist\u001b[39m(combo)])\n\u001b[0;32m---> 24\u001b[0m     total_profit \u001b[38;5;241m=\u001b[39m \u001b[43mnp\u001b[49m\u001b[38;5;241;43m.\u001b[39;49m\u001b[43msum\u001b[49m\u001b[43m(\u001b[49m\u001b[43mdata\u001b[49m\u001b[43m[\u001b[49m\u001b[38;5;124;43m'\u001b[39;49m\u001b[38;5;124;43mprofit\u001b[39;49m\u001b[38;5;124;43m'\u001b[39;49m\u001b[43m]\u001b[49m\u001b[38;5;241;43m.\u001b[39;49m\u001b[43miloc\u001b[49m\u001b[43m[\u001b[49m\u001b[38;5;28;43mlist\u001b[39;49m\u001b[43m(\u001b[49m\u001b[43mcombo\u001b[49m\u001b[43m)\u001b[49m\u001b[43m]\u001b[49m\u001b[43m)\u001b[49m\n\u001b[1;32m     26\u001b[0m     \u001b[38;5;66;03m# Vérifier si le total_price ne dépasse pas le budget\u001b[39;00m\n\u001b[1;32m     27\u001b[0m     \u001b[38;5;28;01mif\u001b[39;00m total_price \u001b[38;5;241m<\u001b[39m\u001b[38;5;241m=\u001b[39m budget \u001b[38;5;129;01mand\u001b[39;00m total_profit \u001b[38;5;241m>\u001b[39m max_profit:\n",
      "File \u001b[0;32m/opt/conda/lib/python3.11/site-packages/numpy/core/fromnumeric.py:2313\u001b[0m, in \u001b[0;36msum\u001b[0;34m(a, axis, dtype, out, keepdims, initial, where)\u001b[0m\n\u001b[1;32m   2310\u001b[0m         \u001b[38;5;28;01mreturn\u001b[39;00m out\n\u001b[1;32m   2311\u001b[0m     \u001b[38;5;28;01mreturn\u001b[39;00m res\n\u001b[0;32m-> 2313\u001b[0m \u001b[38;5;28;01mreturn\u001b[39;00m \u001b[43m_wrapreduction\u001b[49m\u001b[43m(\u001b[49m\u001b[43ma\u001b[49m\u001b[43m,\u001b[49m\u001b[43m \u001b[49m\u001b[43mnp\u001b[49m\u001b[38;5;241;43m.\u001b[39;49m\u001b[43madd\u001b[49m\u001b[43m,\u001b[49m\u001b[43m \u001b[49m\u001b[38;5;124;43m'\u001b[39;49m\u001b[38;5;124;43msum\u001b[39;49m\u001b[38;5;124;43m'\u001b[39;49m\u001b[43m,\u001b[49m\u001b[43m \u001b[49m\u001b[43maxis\u001b[49m\u001b[43m,\u001b[49m\u001b[43m \u001b[49m\u001b[43mdtype\u001b[49m\u001b[43m,\u001b[49m\u001b[43m \u001b[49m\u001b[43mout\u001b[49m\u001b[43m,\u001b[49m\u001b[43m \u001b[49m\u001b[43mkeepdims\u001b[49m\u001b[38;5;241;43m=\u001b[39;49m\u001b[43mkeepdims\u001b[49m\u001b[43m,\u001b[49m\n\u001b[1;32m   2314\u001b[0m \u001b[43m                      \u001b[49m\u001b[43minitial\u001b[49m\u001b[38;5;241;43m=\u001b[39;49m\u001b[43minitial\u001b[49m\u001b[43m,\u001b[49m\u001b[43m \u001b[49m\u001b[43mwhere\u001b[49m\u001b[38;5;241;43m=\u001b[39;49m\u001b[43mwhere\u001b[49m\u001b[43m)\u001b[49m\n",
      "File \u001b[0;32m/opt/conda/lib/python3.11/site-packages/numpy/core/fromnumeric.py:86\u001b[0m, in \u001b[0;36m_wrapreduction\u001b[0;34m(obj, ufunc, method, axis, dtype, out, **kwargs)\u001b[0m\n\u001b[1;32m     84\u001b[0m             \u001b[38;5;28;01mreturn\u001b[39;00m reduction(axis\u001b[38;5;241m=\u001b[39maxis, dtype\u001b[38;5;241m=\u001b[39mdtype, out\u001b[38;5;241m=\u001b[39mout, \u001b[38;5;241m*\u001b[39m\u001b[38;5;241m*\u001b[39mpasskwargs)\n\u001b[1;32m     85\u001b[0m         \u001b[38;5;28;01melse\u001b[39;00m:\n\u001b[0;32m---> 86\u001b[0m             \u001b[38;5;28;01mreturn\u001b[39;00m \u001b[43mreduction\u001b[49m\u001b[43m(\u001b[49m\u001b[43maxis\u001b[49m\u001b[38;5;241;43m=\u001b[39;49m\u001b[43maxis\u001b[49m\u001b[43m,\u001b[49m\u001b[43m \u001b[49m\u001b[43mout\u001b[49m\u001b[38;5;241;43m=\u001b[39;49m\u001b[43mout\u001b[49m\u001b[43m,\u001b[49m\u001b[43m \u001b[49m\u001b[38;5;241;43m*\u001b[39;49m\u001b[38;5;241;43m*\u001b[39;49m\u001b[43mpasskwargs\u001b[49m\u001b[43m)\u001b[49m\n\u001b[1;32m     88\u001b[0m \u001b[38;5;28;01mreturn\u001b[39;00m ufunc\u001b[38;5;241m.\u001b[39mreduce(obj, axis, dtype, out, \u001b[38;5;241m*\u001b[39m\u001b[38;5;241m*\u001b[39mpasskwargs)\n",
      "File \u001b[0;32m/opt/conda/lib/python3.11/site-packages/pandas/core/series.py:6528\u001b[0m, in \u001b[0;36mSeries.sum\u001b[0;34m(self, axis, skipna, numeric_only, min_count, **kwargs)\u001b[0m\n\u001b[1;32m   6519\u001b[0m \u001b[38;5;129m@doc\u001b[39m(make_doc(\u001b[38;5;124m\"\u001b[39m\u001b[38;5;124msum\u001b[39m\u001b[38;5;124m\"\u001b[39m, ndim\u001b[38;5;241m=\u001b[39m\u001b[38;5;241m1\u001b[39m))\n\u001b[1;32m   6520\u001b[0m \u001b[38;5;28;01mdef\u001b[39;00m \u001b[38;5;21msum\u001b[39m(\n\u001b[1;32m   6521\u001b[0m     \u001b[38;5;28mself\u001b[39m,\n\u001b[0;32m   (...)\u001b[0m\n\u001b[1;32m   6526\u001b[0m     \u001b[38;5;241m*\u001b[39m\u001b[38;5;241m*\u001b[39mkwargs,\n\u001b[1;32m   6527\u001b[0m ):\n\u001b[0;32m-> 6528\u001b[0m     \u001b[38;5;28;01mreturn\u001b[39;00m \u001b[43mNDFrame\u001b[49m\u001b[38;5;241;43m.\u001b[39;49m\u001b[43msum\u001b[49m\u001b[43m(\u001b[49m\u001b[38;5;28;43mself\u001b[39;49m\u001b[43m,\u001b[49m\u001b[43m \u001b[49m\u001b[43maxis\u001b[49m\u001b[43m,\u001b[49m\u001b[43m \u001b[49m\u001b[43mskipna\u001b[49m\u001b[43m,\u001b[49m\u001b[43m \u001b[49m\u001b[43mnumeric_only\u001b[49m\u001b[43m,\u001b[49m\u001b[43m \u001b[49m\u001b[43mmin_count\u001b[49m\u001b[43m,\u001b[49m\u001b[43m \u001b[49m\u001b[38;5;241;43m*\u001b[39;49m\u001b[38;5;241;43m*\u001b[39;49m\u001b[43mkwargs\u001b[49m\u001b[43m)\u001b[49m\n",
      "File \u001b[0;32m/opt/conda/lib/python3.11/site-packages/pandas/core/generic.py:12506\u001b[0m, in \u001b[0;36mNDFrame.sum\u001b[0;34m(self, axis, skipna, numeric_only, min_count, **kwargs)\u001b[0m\n\u001b[1;32m  12498\u001b[0m \u001b[38;5;28;01mdef\u001b[39;00m \u001b[38;5;21msum\u001b[39m(\n\u001b[1;32m  12499\u001b[0m     \u001b[38;5;28mself\u001b[39m,\n\u001b[1;32m  12500\u001b[0m     axis: Axis \u001b[38;5;241m|\u001b[39m \u001b[38;5;28;01mNone\u001b[39;00m \u001b[38;5;241m=\u001b[39m \u001b[38;5;241m0\u001b[39m,\n\u001b[0;32m   (...)\u001b[0m\n\u001b[1;32m  12504\u001b[0m     \u001b[38;5;241m*\u001b[39m\u001b[38;5;241m*\u001b[39mkwargs,\n\u001b[1;32m  12505\u001b[0m ):\n\u001b[0;32m> 12506\u001b[0m     \u001b[38;5;28;01mreturn\u001b[39;00m \u001b[38;5;28;43mself\u001b[39;49m\u001b[38;5;241;43m.\u001b[39;49m\u001b[43m_min_count_stat_function\u001b[49m\u001b[43m(\u001b[49m\n\u001b[1;32m  12507\u001b[0m \u001b[43m        \u001b[49m\u001b[38;5;124;43m\"\u001b[39;49m\u001b[38;5;124;43msum\u001b[39;49m\u001b[38;5;124;43m\"\u001b[39;49m\u001b[43m,\u001b[49m\u001b[43m \u001b[49m\u001b[43mnanops\u001b[49m\u001b[38;5;241;43m.\u001b[39;49m\u001b[43mnansum\u001b[49m\u001b[43m,\u001b[49m\u001b[43m \u001b[49m\u001b[43maxis\u001b[49m\u001b[43m,\u001b[49m\u001b[43m \u001b[49m\u001b[43mskipna\u001b[49m\u001b[43m,\u001b[49m\u001b[43m \u001b[49m\u001b[43mnumeric_only\u001b[49m\u001b[43m,\u001b[49m\u001b[43m \u001b[49m\u001b[43mmin_count\u001b[49m\u001b[43m,\u001b[49m\u001b[43m \u001b[49m\u001b[38;5;241;43m*\u001b[39;49m\u001b[38;5;241;43m*\u001b[39;49m\u001b[43mkwargs\u001b[49m\n\u001b[1;32m  12508\u001b[0m \u001b[43m    \u001b[49m\u001b[43m)\u001b[49m\n",
      "File \u001b[0;32m/opt/conda/lib/python3.11/site-packages/pandas/core/generic.py:12489\u001b[0m, in \u001b[0;36mNDFrame._min_count_stat_function\u001b[0;34m(self, name, func, axis, skipna, numeric_only, min_count, **kwargs)\u001b[0m\n\u001b[1;32m  12486\u001b[0m \u001b[38;5;28;01melif\u001b[39;00m axis \u001b[38;5;129;01mis\u001b[39;00m lib\u001b[38;5;241m.\u001b[39mno_default:\n\u001b[1;32m  12487\u001b[0m     axis \u001b[38;5;241m=\u001b[39m \u001b[38;5;241m0\u001b[39m\n\u001b[0;32m> 12489\u001b[0m \u001b[38;5;28;01mreturn\u001b[39;00m \u001b[38;5;28;43mself\u001b[39;49m\u001b[38;5;241;43m.\u001b[39;49m\u001b[43m_reduce\u001b[49m\u001b[43m(\u001b[49m\n\u001b[1;32m  12490\u001b[0m \u001b[43m    \u001b[49m\u001b[43mfunc\u001b[49m\u001b[43m,\u001b[49m\n\u001b[1;32m  12491\u001b[0m \u001b[43m    \u001b[49m\u001b[43mname\u001b[49m\u001b[38;5;241;43m=\u001b[39;49m\u001b[43mname\u001b[49m\u001b[43m,\u001b[49m\n\u001b[1;32m  12492\u001b[0m \u001b[43m    \u001b[49m\u001b[43maxis\u001b[49m\u001b[38;5;241;43m=\u001b[39;49m\u001b[43maxis\u001b[49m\u001b[43m,\u001b[49m\n\u001b[1;32m  12493\u001b[0m \u001b[43m    \u001b[49m\u001b[43mskipna\u001b[49m\u001b[38;5;241;43m=\u001b[39;49m\u001b[43mskipna\u001b[49m\u001b[43m,\u001b[49m\n\u001b[1;32m  12494\u001b[0m \u001b[43m    \u001b[49m\u001b[43mnumeric_only\u001b[49m\u001b[38;5;241;43m=\u001b[39;49m\u001b[43mnumeric_only\u001b[49m\u001b[43m,\u001b[49m\n\u001b[1;32m  12495\u001b[0m \u001b[43m    \u001b[49m\u001b[43mmin_count\u001b[49m\u001b[38;5;241;43m=\u001b[39;49m\u001b[43mmin_count\u001b[49m\u001b[43m,\u001b[49m\n\u001b[1;32m  12496\u001b[0m \u001b[43m\u001b[49m\u001b[43m)\u001b[49m\n",
      "File \u001b[0;32m/opt/conda/lib/python3.11/site-packages/pandas/core/series.py:6457\u001b[0m, in \u001b[0;36mSeries._reduce\u001b[0;34m(self, op, name, axis, skipna, numeric_only, filter_type, **kwds)\u001b[0m\n\u001b[1;32m   6452\u001b[0m     \u001b[38;5;66;03m# GH#47500 - change to TypeError to match other methods\u001b[39;00m\n\u001b[1;32m   6453\u001b[0m     \u001b[38;5;28;01mraise\u001b[39;00m \u001b[38;5;167;01mTypeError\u001b[39;00m(\n\u001b[1;32m   6454\u001b[0m         \u001b[38;5;124mf\u001b[39m\u001b[38;5;124m\"\u001b[39m\u001b[38;5;124mSeries.\u001b[39m\u001b[38;5;132;01m{\u001b[39;00mname\u001b[38;5;132;01m}\u001b[39;00m\u001b[38;5;124m does not allow \u001b[39m\u001b[38;5;132;01m{\u001b[39;00mkwd_name\u001b[38;5;132;01m}\u001b[39;00m\u001b[38;5;124m=\u001b[39m\u001b[38;5;132;01m{\u001b[39;00mnumeric_only\u001b[38;5;132;01m}\u001b[39;00m\u001b[38;5;124m \u001b[39m\u001b[38;5;124m\"\u001b[39m\n\u001b[1;32m   6455\u001b[0m         \u001b[38;5;124m\"\u001b[39m\u001b[38;5;124mwith non-numeric dtypes.\u001b[39m\u001b[38;5;124m\"\u001b[39m\n\u001b[1;32m   6456\u001b[0m     )\n\u001b[0;32m-> 6457\u001b[0m \u001b[38;5;28;01mreturn\u001b[39;00m \u001b[43mop\u001b[49m\u001b[43m(\u001b[49m\u001b[43mdelegate\u001b[49m\u001b[43m,\u001b[49m\u001b[43m \u001b[49m\u001b[43mskipna\u001b[49m\u001b[38;5;241;43m=\u001b[39;49m\u001b[43mskipna\u001b[49m\u001b[43m,\u001b[49m\u001b[43m \u001b[49m\u001b[38;5;241;43m*\u001b[39;49m\u001b[38;5;241;43m*\u001b[39;49m\u001b[43mkwds\u001b[49m\u001b[43m)\u001b[49m\n",
      "File \u001b[0;32m/opt/conda/lib/python3.11/site-packages/pandas/core/nanops.py:85\u001b[0m, in \u001b[0;36mdisallow.__call__.<locals>._f\u001b[0;34m(*args, **kwargs)\u001b[0m\n\u001b[1;32m     81\u001b[0m     \u001b[38;5;28;01mraise\u001b[39;00m \u001b[38;5;167;01mTypeError\u001b[39;00m(\n\u001b[1;32m     82\u001b[0m         \u001b[38;5;124mf\u001b[39m\u001b[38;5;124m\"\u001b[39m\u001b[38;5;124mreduction operation \u001b[39m\u001b[38;5;124m'\u001b[39m\u001b[38;5;132;01m{\u001b[39;00mf_name\u001b[38;5;132;01m}\u001b[39;00m\u001b[38;5;124m'\u001b[39m\u001b[38;5;124m not allowed for this dtype\u001b[39m\u001b[38;5;124m\"\u001b[39m\n\u001b[1;32m     83\u001b[0m     )\n\u001b[1;32m     84\u001b[0m \u001b[38;5;28;01mtry\u001b[39;00m:\n\u001b[0;32m---> 85\u001b[0m     \u001b[38;5;28;01mreturn\u001b[39;00m \u001b[43mf\u001b[49m\u001b[43m(\u001b[49m\u001b[38;5;241;43m*\u001b[39;49m\u001b[43margs\u001b[49m\u001b[43m,\u001b[49m\u001b[43m \u001b[49m\u001b[38;5;241;43m*\u001b[39;49m\u001b[38;5;241;43m*\u001b[39;49m\u001b[43mkwargs\u001b[49m\u001b[43m)\u001b[49m\n\u001b[1;32m     86\u001b[0m \u001b[38;5;28;01mexcept\u001b[39;00m \u001b[38;5;167;01mValueError\u001b[39;00m \u001b[38;5;28;01mas\u001b[39;00m e:\n\u001b[1;32m     87\u001b[0m     \u001b[38;5;66;03m# we want to transform an object array\u001b[39;00m\n\u001b[1;32m     88\u001b[0m     \u001b[38;5;66;03m# ValueError message to the more typical TypeError\u001b[39;00m\n\u001b[1;32m     89\u001b[0m     \u001b[38;5;66;03m# e.g. this is normally a disallowed function on\u001b[39;00m\n\u001b[1;32m     90\u001b[0m     \u001b[38;5;66;03m# object arrays that contain strings\u001b[39;00m\n\u001b[1;32m     91\u001b[0m     \u001b[38;5;28;01mif\u001b[39;00m is_object_dtype(args[\u001b[38;5;241m0\u001b[39m]):\n",
      "File \u001b[0;32m/opt/conda/lib/python3.11/site-packages/pandas/core/nanops.py:404\u001b[0m, in \u001b[0;36m_datetimelike_compat.<locals>.new_func\u001b[0;34m(values, axis, skipna, mask, **kwargs)\u001b[0m\n\u001b[1;32m    401\u001b[0m \u001b[38;5;28;01mif\u001b[39;00m datetimelike \u001b[38;5;129;01mand\u001b[39;00m mask \u001b[38;5;129;01mis\u001b[39;00m \u001b[38;5;28;01mNone\u001b[39;00m:\n\u001b[1;32m    402\u001b[0m     mask \u001b[38;5;241m=\u001b[39m isna(values)\n\u001b[0;32m--> 404\u001b[0m result \u001b[38;5;241m=\u001b[39m \u001b[43mfunc\u001b[49m\u001b[43m(\u001b[49m\u001b[43mvalues\u001b[49m\u001b[43m,\u001b[49m\u001b[43m \u001b[49m\u001b[43maxis\u001b[49m\u001b[38;5;241;43m=\u001b[39;49m\u001b[43maxis\u001b[49m\u001b[43m,\u001b[49m\u001b[43m \u001b[49m\u001b[43mskipna\u001b[49m\u001b[38;5;241;43m=\u001b[39;49m\u001b[43mskipna\u001b[49m\u001b[43m,\u001b[49m\u001b[43m \u001b[49m\u001b[43mmask\u001b[49m\u001b[38;5;241;43m=\u001b[39;49m\u001b[43mmask\u001b[49m\u001b[43m,\u001b[49m\u001b[43m \u001b[49m\u001b[38;5;241;43m*\u001b[39;49m\u001b[38;5;241;43m*\u001b[39;49m\u001b[43mkwargs\u001b[49m\u001b[43m)\u001b[49m\n\u001b[1;32m    406\u001b[0m \u001b[38;5;28;01mif\u001b[39;00m datetimelike:\n\u001b[1;32m    407\u001b[0m     result \u001b[38;5;241m=\u001b[39m _wrap_results(result, orig_values\u001b[38;5;241m.\u001b[39mdtype, fill_value\u001b[38;5;241m=\u001b[39miNaT)\n",
      "File \u001b[0;32m/opt/conda/lib/python3.11/site-packages/pandas/core/nanops.py:477\u001b[0m, in \u001b[0;36mmaybe_operate_rowwise.<locals>.newfunc\u001b[0;34m(values, axis, **kwargs)\u001b[0m\n\u001b[1;32m    474\u001b[0m         results \u001b[38;5;241m=\u001b[39m [func(x, \u001b[38;5;241m*\u001b[39m\u001b[38;5;241m*\u001b[39mkwargs) \u001b[38;5;28;01mfor\u001b[39;00m x \u001b[38;5;129;01min\u001b[39;00m arrs]\n\u001b[1;32m    475\u001b[0m     \u001b[38;5;28;01mreturn\u001b[39;00m np\u001b[38;5;241m.\u001b[39marray(results)\n\u001b[0;32m--> 477\u001b[0m \u001b[38;5;28;01mreturn\u001b[39;00m \u001b[43mfunc\u001b[49m\u001b[43m(\u001b[49m\u001b[43mvalues\u001b[49m\u001b[43m,\u001b[49m\u001b[43m \u001b[49m\u001b[43maxis\u001b[49m\u001b[38;5;241;43m=\u001b[39;49m\u001b[43maxis\u001b[49m\u001b[43m,\u001b[49m\u001b[43m \u001b[49m\u001b[38;5;241;43m*\u001b[39;49m\u001b[38;5;241;43m*\u001b[39;49m\u001b[43mkwargs\u001b[49m\u001b[43m)\u001b[49m\n",
      "File \u001b[0;32m/opt/conda/lib/python3.11/site-packages/pandas/core/nanops.py:640\u001b[0m, in \u001b[0;36mnansum\u001b[0;34m(values, axis, skipna, min_count, mask)\u001b[0m\n\u001b[1;32m    638\u001b[0m dtype \u001b[38;5;241m=\u001b[39m values\u001b[38;5;241m.\u001b[39mdtype\n\u001b[1;32m    639\u001b[0m values, mask \u001b[38;5;241m=\u001b[39m _get_values(values, skipna, fill_value\u001b[38;5;241m=\u001b[39m\u001b[38;5;241m0\u001b[39m, mask\u001b[38;5;241m=\u001b[39mmask)\n\u001b[0;32m--> 640\u001b[0m dtype_sum \u001b[38;5;241m=\u001b[39m \u001b[43m_get_dtype_max\u001b[49m\u001b[43m(\u001b[49m\u001b[43mdtype\u001b[49m\u001b[43m)\u001b[49m\n\u001b[1;32m    641\u001b[0m \u001b[38;5;28;01mif\u001b[39;00m dtype\u001b[38;5;241m.\u001b[39mkind \u001b[38;5;241m==\u001b[39m \u001b[38;5;124m\"\u001b[39m\u001b[38;5;124mf\u001b[39m\u001b[38;5;124m\"\u001b[39m:\n\u001b[1;32m    642\u001b[0m     dtype_sum \u001b[38;5;241m=\u001b[39m dtype\n",
      "File \u001b[0;32m/opt/conda/lib/python3.11/site-packages/pandas/core/nanops.py:332\u001b[0m, in \u001b[0;36m_get_dtype_max\u001b[0;34m(dtype)\u001b[0m\n\u001b[1;32m    330\u001b[0m     dtype_max \u001b[38;5;241m=\u001b[39m np\u001b[38;5;241m.\u001b[39mdtype(np\u001b[38;5;241m.\u001b[39muint64)\n\u001b[1;32m    331\u001b[0m \u001b[38;5;28;01melif\u001b[39;00m dtype\u001b[38;5;241m.\u001b[39mkind \u001b[38;5;241m==\u001b[39m \u001b[38;5;124m\"\u001b[39m\u001b[38;5;124mf\u001b[39m\u001b[38;5;124m\"\u001b[39m:\n\u001b[0;32m--> 332\u001b[0m     dtype_max \u001b[38;5;241m=\u001b[39m \u001b[43mnp\u001b[49m\u001b[38;5;241;43m.\u001b[39;49m\u001b[43mdtype\u001b[49m\u001b[43m(\u001b[49m\u001b[43mnp\u001b[49m\u001b[38;5;241;43m.\u001b[39;49m\u001b[43mfloat64\u001b[49m\u001b[43m)\u001b[49m\n\u001b[1;32m    333\u001b[0m \u001b[38;5;28;01mreturn\u001b[39;00m dtype_max\n",
      "\u001b[0;31mKeyboardInterrupt\u001b[0m: "
     ]
    }
   ],
   "source": [
    "import numpy as np\n",
    "import pandas as pd\n",
    "from itertools import combinations\n",
    "\n",
    "# Charger les données CSV\n",
    "data = pd.read_csv('Data/analyse.csv', na_values=['NA', 'NULL'])\n",
    "\n",
    "# Caster les colonnes en types plus rapides (par exemple, float32 au lieu de float64)\n",
    "data['price'] = data['price'].astype(np.float32)\n",
    "data['profit'] = data['profit'].astype(np.float32)\n",
    "\n",
    "# Fixer le budget\n",
    "budget = 300  # Exemple de budget\n",
    "\n",
    "def brute_force_max_profit(data, budget):\n",
    "    n = len(data)\n",
    "    max_profit = 0\n",
    "    best_combination = []\n",
    "\n",
    "    # Tester toutes les combinaisons possibles\n",
    "    for r in range(1, n + 1):\n",
    "        for combo in combinations(range(n), r):\n",
    "            total_price = np.sum(data['price'].iloc[list(combo)])\n",
    "            total_profit = np.sum(data['profit'].iloc[list(combo)])\n",
    "            \n",
    "            # Vérifier si le total_price ne dépasse pas le budget\n",
    "            if total_price <= budget and total_profit > max_profit:\n",
    "                max_profit = total_profit\n",
    "                best_combination = [data['name'].iloc[i] for i in combo]\n",
    "\n",
    "    return max_profit, best_combination\n",
    "\n",
    "# Exécuter l'algorithme brute force\n",
    "max_profit_brute, best_combination_brute = brute_force_max_profit(data, budget)\n",
    "\n",
    "print(f\"Brute Force - Maximum Profit: {max_profit_brute}\")\n",
    "print(f\"Brute Force - Best Combination: {best_combination_brute}\")\n"
   ]
  },
  {
   "cell_type": "code",
   "execution_count": null,
   "id": "cc3c23ab-c3aa-4c41-a4f7-e3c22568e1d6",
   "metadata": {},
   "outputs": [],
   "source": []
  }
 ],
 "metadata": {
  "kernelspec": {
   "display_name": "Python 3 (ipykernel)",
   "language": "python",
   "name": "python3"
  },
  "language_info": {
   "codemirror_mode": {
    "name": "ipython",
    "version": 3
   },
   "file_extension": ".py",
   "mimetype": "text/x-python",
   "name": "python",
   "nbconvert_exporter": "python",
   "pygments_lexer": "ipython3",
   "version": "3.11.9"
  }
 },
 "nbformat": 4,
 "nbformat_minor": 5
}
