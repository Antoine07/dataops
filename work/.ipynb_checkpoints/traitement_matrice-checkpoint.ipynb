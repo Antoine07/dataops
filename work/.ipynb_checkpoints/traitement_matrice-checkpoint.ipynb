{
 "cells": [
  {
   "cell_type": "code",
   "execution_count": 1,
   "id": "6cac0ee4-5eb5-46da-85cd-6c97d588123e",
   "metadata": {},
   "outputs": [],
   "source": [
    "import numpy as np"
   ]
  },
  {
   "cell_type": "code",
   "execution_count": 2,
   "id": "6e09248f-7f11-4b1d-a084-a93b6b2cb451",
   "metadata": {},
   "outputs": [],
   "source": [
    "\n",
    "A = np.array([\n",
    "    [13, 22, 28, 66, 40],\n",
    "    [16, 59, 37, 33, 28],\n",
    "    [34, 98, 54, 48, 96],\n",
    "    [13, 84, 93, 79, 76],\n",
    "    [63, 50, 10, 69, 12]\n",
    "])"
   ]
  },
  {
   "cell_type": "code",
   "execution_count": 9,
   "id": "dfa2f818-8384-46e0-9f96-339f66c35aa8",
   "metadata": {},
   "outputs": [
    {
     "data": {
      "text/plain": [
       "[(0, 13), (0, 16), (0, 34), (0, 13), (2, 10)]"
      ]
     },
     "execution_count": 9,
     "metadata": {},
     "output_type": "execute_result"
    }
   ],
   "source": [
    "# ?np.min # documentation\n",
    "\n",
    "# on utilise zip pour créer nos tuples et list pour créer liste \n",
    "# list peut prendre de la place mémoire utiliser une boucle pour afficher les résultats\n",
    "list( zip( np.argmin(A, 1), np.min(A, 1) ) )"
   ]
  },
  {
   "cell_type": "code",
   "execution_count": 7,
   "id": "afebe2dc-551d-4b61-8970-cd8f61bce70b",
   "metadata": {},
   "outputs": [
    {
     "name": "stdout",
     "output_type": "stream",
     "text": [
      "Object `np.zip` not found.\n"
     ]
    }
   ],
   "source": [
    "?np.zip"
   ]
  },
  {
   "cell_type": "code",
   "execution_count": null,
   "id": "0ed0e3c7-3e0a-400f-aedc-344d863847cb",
   "metadata": {},
   "outputs": [],
   "source": []
  }
 ],
 "metadata": {
  "kernelspec": {
   "display_name": "Python 3 (ipykernel)",
   "language": "python",
   "name": "python3"
  },
  "language_info": {
   "codemirror_mode": {
    "name": "ipython",
    "version": 3
   },
   "file_extension": ".py",
   "mimetype": "text/x-python",
   "name": "python",
   "nbconvert_exporter": "python",
   "pygments_lexer": "ipython3",
   "version": "3.11.9"
  }
 },
 "nbformat": 4,
 "nbformat_minor": 5
}
